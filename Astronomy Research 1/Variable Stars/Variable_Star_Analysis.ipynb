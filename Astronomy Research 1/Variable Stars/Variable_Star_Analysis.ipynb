{
 "cells": [
  {
   "cell_type": "markdown",
   "metadata": {},
   "source": [
    "# Variable Star Analysis"
   ]
  },
  {
   "cell_type": "code",
   "execution_count": 596,
   "metadata": {},
   "outputs": [],
   "source": [
    "import numpy as np\n",
    "import matplotlib.pyplot as plt\n",
    "import pandas as pd\n",
    "from astropy import units as u\n",
    "from astropy.coordinates import Angle\n",
    "from astropy.table import QTable, Table, Column\n",
    "import csv\n",
    "import datetime as dt"
   ]
  },
  {
   "cell_type": "markdown",
   "metadata": {},
   "source": [
    "# Importing the Data"
   ]
  },
  {
   "cell_type": "code",
   "execution_count": 597,
   "metadata": {},
   "outputs": [
    {
     "name": "stderr",
     "output_type": "stream",
     "text": [
      "C:\\Users\\fmart\\Anaconda3\\lib\\site-packages\\ipykernel_launcher.py:1: ParserWarning: Falling back to the 'python' engine because the 'c' engine does not support regex separators (separators > 1 char and different from '\\s+' are interpreted as regex); you can avoid this warning by specifying engine='python'.\n",
      "  \"\"\"Entry point for launching an IPython kernel.\n"
     ]
    }
   ],
   "source": [
    "Phot_data = pd.read_csv('rmaster_phot_v2.dat',delimiter='  ',names = ['ID', 'MAG', 'MERR', 'IMAGE'])\n",
    "Date = open(\"dateobs.txt\").readlines()\n",
    "Time = pd.read_csv('hour.min.sec.txt',delimiter=':',names=['Hour','Min','Sec'])"
   ]
  },
  {
   "cell_type": "code",
   "execution_count": 598,
   "metadata": {},
   "outputs": [],
   "source": [
    "starid = [a % 30 for a in Phot_data.ID] "
   ]
  },
  {
   "cell_type": "markdown",
   "metadata": {},
   "source": [
    "# Converting Calendar Date to Modified Julian Date"
   ]
  },
  {
   "cell_type": "code",
   "execution_count": 602,
   "metadata": {},
   "outputs": [],
   "source": [
    "def JD (Hour, Min, Sec):\n",
    "    return(2456846.5 + Hour*(.1/2.4) + Min*(.1/144) + Sec*(.1/8640))  \n",
    "def MJD (Jul_Date):\n",
    "    return(Jul_Date - 2400000.5)"
   ]
  },
  {
   "cell_type": "code",
   "execution_count": 603,
   "metadata": {
    "scrolled": false
   },
   "outputs": [
    {
     "data": {
      "text/plain": [
       "[56846.04540509218,\n",
       " 56846.050833333284,\n",
       " 56846.05626157392,\n",
       " 56846.06167824054,\n",
       " 56846.067106481176,\n",
       " 56846.072534722276,\n",
       " 56846.07796296291,\n",
       " 56846.08337963,\n",
       " 56846.088807870634,\n",
       " 56846.09422453726,\n",
       " 56846.09965277789,\n",
       " 56846.10508101899,\n",
       " 56846.11049768515,\n",
       " 56846.11592592625,\n",
       " 56846.121354166884,\n",
       " 56846.12677083304,\n",
       " 56846.13219907414,\n",
       " 56846.137627314776,\n",
       " 56846.143136573955,\n",
       " 56846.14857638907,\n",
       " 56846.154074074235,\n",
       " 56846.15961805545,\n",
       " 56846.19981481461,\n",
       " 56846.20524305524,\n",
       " 56846.21067129634,\n",
       " 56846.21608796297,\n",
       " 56846.22151620407,\n",
       " 56846.226932870224,\n",
       " 56846.232361111324,\n",
       " 56846.23777777795,\n",
       " 56846.24320601858,\n",
       " 56846.248622685205,\n",
       " 56846.25405092584,\n",
       " 56846.25946759246,\n",
       " 56846.26489583356,\n",
       " 56846.270312500186,\n",
       " 56846.27574074082,\n",
       " 56846.281157407444,\n",
       " 56846.286585648544,\n",
       " 56846.2920023147,\n",
       " 56846.297430555336,\n",
       " 56846.30362268537,\n",
       " 56846.30905092554,\n",
       " 56846.31446759263,\n",
       " 56846.319895833265,\n",
       " 56846.3253240739,\n",
       " 56846.33074074052,\n",
       " 56846.33616898162,\n",
       " 56846.341585648246,\n",
       " 56846.347013889346,\n",
       " 56846.352430555504,\n",
       " 56846.35784722213,\n",
       " 56846.36250000028]"
      ]
     },
     "execution_count": 603,
     "metadata": {},
     "output_type": "execute_result"
    }
   ],
   "source": [
    "Julian_Date = []                                                \n",
    "Mod_Jul_Date = []\n",
    "for i in range(len(Time)):\n",
    "    Julian_Date.append(JD(Time.Hour[i],Time.Min[i],Time.Sec[i]))\n",
    "    Mod_Jul_Date.append(MJD(Julian_Date[i]))\n",
    "Mod_Jul_Date"
   ]
  },
  {
   "cell_type": "markdown",
   "metadata": {},
   "source": [
    "# Making the Binary  Light Curve"
   ]
  },
  {
   "cell_type": "code",
   "execution_count": 604,
   "metadata": {},
   "outputs": [
    {
     "data": {
      "text/plain": [
       "array([[16.165, 13.629, 13.092, ..., 10.791, 12.38 , 13.645],\n",
       "       [16.109, 13.601, 13.038, ..., 10.841, 12.36 , 13.653],\n",
       "       [16.286, 13.593, 13.05 , ..., 10.812, 12.368, 13.614],\n",
       "       ...,\n",
       "       [16.113, 13.889, 13.282, ..., 10.966, 12.737, 13.88 ],\n",
       "       [16.544, 14.352, 13.754, ..., 11.169, 13.128, 14.374],\n",
       "       [16.307, 14.065, 13.487, ..., 11.137, 13.001, 14.092]])"
      ]
     },
     "execution_count": 604,
     "metadata": {},
     "output_type": "execute_result"
    }
   ],
   "source": [
    "Light_curve = np.reshape(np.asarray(Phot_data.MAG), (53,30))\n",
    "Light_curve  #Where the columns are the stars and the rows are the magnitude of that star taken at a certain time"
   ]
  },
  {
   "cell_type": "code",
   "execution_count": 605,
   "metadata": {},
   "outputs": [
    {
     "data": {
      "text/plain": [
       "array([16.165, 16.109, 16.286, 16.116, 16.131, 16.091, 16.043, 16.034,\n",
       "       15.977, 15.844, 15.805, 15.826, 15.798, 15.827, 15.731, 15.77 ,\n",
       "       15.596, 15.674, 15.725, 15.662, 15.69 , 15.697, 15.894, 15.887,\n",
       "       15.912, 15.93 , 16.035, 16.104, 16.259, 16.234, 16.207, 16.071,\n",
       "       15.915, 15.998, 16.113, 15.901, 15.822, 15.838, 15.775, 15.861,\n",
       "       15.8  , 15.82 , 15.842, 15.827, 15.819, 15.858, 15.785, 15.977,\n",
       "       16.097, 15.985, 16.113, 16.544, 16.307])"
      ]
     },
     "execution_count": 605,
     "metadata": {},
     "output_type": "execute_result"
    }
   ],
   "source": [
    "Light_curve[:,0]   #This is the light curve for the binary star"
   ]
  },
  {
   "cell_type": "code",
   "execution_count": 606,
   "metadata": {},
   "outputs": [
    {
     "data": {
      "image/png": "[encoded data removed]",
      "text/plain": [
       "<Figure size 1080x360 with 2 Axes>"
      ]
     },
     "metadata": {
      "needs_background": "light"
     },
     "output_type": "display_data"
    }
   ],
   "source": [
    "#Direct, side by side comparison with Variable star to Non Variable Star 1\n",
    "plt.figure(figsize = [15,5])\n",
    "plt.subplot(1,2,1)\n",
    "plt.scatter(Mod_Jul_Date,Light_curve[:,0], color = 'blue')\n",
    "plt.gca().invert_yaxis()\n",
    "plt.title(\"Variable Star\",fontsize = 20)\n",
    "plt.ylabel('Magnitude',fontsize = 15)\n",
    "plt.xlabel('Modified Julian Date',fontsize = 15)\n",
    "plt.minorticks_on()\n",
    "\n",
    "plt.subplot(1,2,2)\n",
    "plt.scatter(Mod_Jul_Date,Light_curve[:,1], color = 'green')\n",
    "plt.gca().invert_yaxis()\n",
    "plt.title(\"Non Variable Star 1\",fontsize = 20)\n",
    "plt.ylabel('Magnitude',fontsize = 15)\n",
    "plt.xlabel('Modified Julian Date',fontsize = 15)\n",
    "plt.minorticks_on()\n",
    "plt.show()"
   ]
  },
  {
   "cell_type": "markdown",
   "metadata": {},
   "source": [
    "# Standard Star Calibration"
   ]
  },
  {
   "cell_type": "code",
   "execution_count": 609,
   "metadata": {},
   "outputs": [],
   "source": [
    "Star_avg = ((Light_curve[:,0]-Light_curve[:,1])+(Light_curve[:,0]-Light_curve[:,2])+(Light_curve[:,0]-Light_curve[:,3])+\n",
    "                (Light_curve[:,0]-Light_curve[:,4])+(Light_curve[:,0]-Light_curve[:,5])+(Light_curve[:,0]-Light_curve[:,6])+\n",
    "                (Light_curve[:,0]-Light_curve[:,7])+(Light_curve[:,0]-Light_curve[:,8])+(Light_curve[:,0]-Light_curve[:,9])+\n",
    "                (Light_curve[:,0]-Light_curve[:,10])+(Light_curve[:,0]-Light_curve[:,11])+(Light_curve[:,0]-Light_curve[:,12])+\n",
    "                (Light_curve[:,0]-Light_curve[:,13])+(Light_curve[:,0]-Light_curve[:,14])+(Light_curve[:,0]-Light_curve[:,15])+\n",
    "                (Light_curve[:,0]-Light_curve[:,1+15])+(Light_curve[:,0]-Light_curve[:,2+15])+(Light_curve[:,0]-Light_curve[:,3+15])+\n",
    "                (Light_curve[:,0]-Light_curve[:,4+15])+(Light_curve[:,0]-Light_curve[:,5+15])+(Light_curve[:,0]-Light_curve[:,6+15])+\n",
    "                (Light_curve[:,0]-Light_curve[:,7+15])+(Light_curve[:,0]-Light_curve[:,8+15])+(Light_curve[:,0]-Light_curve[:,9+15])+\n",
    "                (Light_curve[:,0]-Light_curve[:,10+15])+(Light_curve[:,0]-Light_curve[:,11+15])+(Light_curve[:,0]-Light_curve[:,12+15])+\n",
    "                (Light_curve[:,0]-Light_curve[:,13+15])+(Light_curve[:,0]-Light_curve[:,14+15]))/30\n",
    "#Averaging the difference between the Variable star and all of the standard stars"
   ]
  },
  {
   "cell_type": "code",
   "execution_count": 612,
   "metadata": {},
   "outputs": [
    {
     "data": {
      "image/png": "[encoded data removed]",
      "text/plain": [
       "<Figure size 720x360 with 1 Axes>"
      ]
     },
     "metadata": {
      "needs_background": "light"
     },
     "output_type": "display_data"
    }
   ],
   "source": [
    "plt.figure(figsize = [10,5])\n",
    "plt.scatter(Mod_Jul_Date,Star_avg, color = 'blue')\n",
    "plt.gca().invert_yaxis()\n",
    "plt.title(\"Variable Star Calibrated\",fontsize = 20)\n",
    "plt.ylabel('Magnitude',fontsize = 15)\n",
    "plt.xlabel('Modified Julian Date',fontsize = 15)\n",
    "plt.minorticks_on()"
   ]
  }
 ],
 "metadata": {
  "kernelspec": {
   "display_name": "Python 3",
   "language": "python",
   "name": "python3"
  },
  "language_info": {
   "codemirror_mode": {
    "name": "ipython",
    "version": 3
   },
   "file_extension": ".py",
   "mimetype": "text/x-python",
   "name": "python",
   "nbconvert_exporter": "python",
   "pygments_lexer": "ipython3",
   "version": "3.6.13"
  }
 },
 "nbformat": 4,
 "nbformat_minor": 2
}
