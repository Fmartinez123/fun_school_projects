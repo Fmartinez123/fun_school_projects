{
 "cells": [
  {
   "cell_type": "markdown",
   "metadata": {},
   "source": [
    "# Numpy Tutorial"
   ]
  },
  {
   "cell_type": "markdown",
   "metadata": {},
   "source": [
    "Please complete this notebook by filling in the cells provided. Before you begin, execute the following cell to load required modules. Each time you start your server, you will need to execute this cell again to load the modules.\n",
    "\n",
    "Throughout this homework and all future ones, please be sure to not re-assign variables throughout the notebook! For example, if you use `max_temperature` in your answer to one question, do not reassign it later on. "
   ]
  },
  {
   "cell_type": "code",
   "execution_count": 1,
   "metadata": {},
   "outputs": [],
   "source": [
    "# Don't change this cell; just run it. \n",
    "\n",
    "import numpy as np\n",
    "\n",
    "# In this assignment, we would use pandas command to import table from csv files and take the columns as array.\n",
    "# Don't worry about those commands, we will learn pandas next class.\n",
    "import pandas as pd"
   ]
  },
  {
   "cell_type": "markdown",
   "metadata": {
    "deletable": false
   },
   "source": [
    "  "
   ]
  },
  {
   "cell_type": "markdown",
   "metadata": {},
   "source": [
    "## 1. Creating Arrays\n"
   ]
  },
  {
   "cell_type": "markdown",
   "metadata": {},
   "source": [
    "**Question 1.** Make an array called `weird_numbers` containing the following numbers (in the given order):\n",
    "\n",
    "1. -2\n",
    "2. the sine of 1.2\n",
    "3. 3\n",
    "4. 5 to the power of the cosine of 1.2\n",
    "\n",
    "*Hint:* `sin` and `cos` are functions in the `math` module."
   ]
  },
  {
   "cell_type": "code",
   "execution_count": 2,
   "metadata": {},
   "outputs": [
    {
     "data": {
      "text/plain": [
       "array([-2.        ,  0.93203909,  3.        ,  1.79174913])"
      ]
     },
     "execution_count": 2,
     "metadata": {},
     "output_type": "execute_result"
    }
   ],
   "source": [
    "# Our solution involved one extra line of code before creating\n",
    "# weird_numbers.\n",
    "import math\n",
    "weird_numbers = np.array([-2, math.sin(1.2), 3, 5**math.cos(1.2)])\n",
    "weird_numbers"
   ]
  },
  {
   "cell_type": "markdown",
   "metadata": {},
   "source": [
    "**Question 2.** Make an array called `book_title_words` containing the following three strings: \"Eats\", \"Shoots\", and \"and Leaves\"."
   ]
  },
  {
   "cell_type": "code",
   "execution_count": 3,
   "metadata": {},
   "outputs": [
    {
     "data": {
      "text/plain": [
       "array(['Eats', 'Shoots', 'and Leaves'], dtype='<U10')"
      ]
     },
     "execution_count": 3,
     "metadata": {},
     "output_type": "execute_result"
    }
   ],
   "source": [
    "book_title_words = np.array(['Eats', 'Shoots', 'and Leaves'])\n",
    "book_title_words"
   ]
  },
  {
   "cell_type": "markdown",
   "metadata": {},
   "source": [
    "Strings have a method called `join`.  `join` takes one argument, an array of strings.  It returns a single string.  Specifically, the value of `a_string.join(an_array)` is a single string that's the [concatenation](https://en.wikipedia.org/wiki/Concatenation) (\"putting together\") of all the strings in `an_array`, **except** `a_string` is inserted in between each string.\n",
    "\n",
    "**Question 3.** Use the array `book_title_words` and the method `join` to make two strings:\n",
    "\n",
    "1. \"Eats, Shoots, and Leaves\" (call this one `with_commas`)\n",
    "2. \"Eats Shoots and Leaves\" (call this one `without_commas`)\n",
    "\n",
    "*Hint:* If you're not sure what `join` does, first try just calling, for example, `\"foo\".join(book_title_words)` ."
   ]
  },
  {
   "cell_type": "code",
   "execution_count": 4,
   "metadata": {},
   "outputs": [
    {
     "name": "stdout",
     "output_type": "stream",
     "text": [
      "with_commas: Eats, Shoots, and Leaves\n",
      "without_commas: Eats Shoots and Leaves\n"
     ]
    }
   ],
   "source": [
    "with_commas = \", \".join(book_title_words)\n",
    "without_commas = \" \".join(book_title_words)\n",
    "\n",
    "# These lines are provided just to print out your answers.\n",
    "print('with_commas:', with_commas)\n",
    "print('without_commas:', without_commas)"
   ]
  },
  {
   "cell_type": "markdown",
   "metadata": {},
   "source": [
    "**Question 3.** Create a 3x3 matrix with values ranging from 0 to 8."
   ]
  },
  {
   "cell_type": "code",
   "execution_count": 5,
   "metadata": {},
   "outputs": [],
   "source": [
    "mat3 = np.array([[0, 1, 2],\n",
    "                 [3, 4, 5],\n",
    "                 [6, 7, 8]])"
   ]
  },
  {
   "cell_type": "markdown",
   "metadata": {},
   "source": [
    "**Question 4.** Find the dimension of the above matrix `mat3`."
   ]
  },
  {
   "cell_type": "code",
   "execution_count": 6,
   "metadata": {},
   "outputs": [
    {
     "data": {
      "text/plain": [
       "(3, 3)"
      ]
     },
     "execution_count": 6,
     "metadata": {},
     "output_type": "execute_result"
    }
   ],
   "source": [
    "mat3.shape"
   ]
  },
  {
   "cell_type": "markdown",
   "metadata": {},
   "source": [
    "**Question 5.** Create the following vector/matrix.\n",
    "* Create a vector with values ranging from 10 to 49\n",
    "* Create a 3x3 identity matrix\n",
    "* Create a 3x3 array with random values"
   ]
  },
  {
   "cell_type": "code",
   "execution_count": 7,
   "metadata": {},
   "outputs": [
    {
     "name": "stdout",
     "output_type": "stream",
     "text": [
      "[10 11 12 13 14 15 16 17 18 19 20 21 22 23 24 25 26 27 28 29 30 31 32 33\n",
      " 34 35 36 37 38 39 40 41 42 43 44 45 46 47 48 49]\n",
      "[[1. 0. 0.]\n",
      " [0. 1. 0.]\n",
      " [0. 0. 1.]]\n",
      "[[0.47645641 0.48172832 0.89672625]\n",
      " [0.72490987 0.39112101 0.98476745]\n",
      " [0.8985761  0.83968194 0.95149354]]\n"
     ]
    }
   ],
   "source": [
    "# making a vector with values 10 to 49\n",
    "vector = np.arange(10,50)\n",
    "print(vector)\n",
    "\n",
    "# making an identity matrix\n",
    "identity = np.identity(3)\n",
    "print(identity)\n",
    "\n",
    "# making a random 3x3 matrix\n",
    "rand = np.random.random([3,3])\n",
    "print(rand)"
   ]
  },
  {
   "cell_type": "markdown",
   "metadata": {},
   "source": [
    "## 2. Indexing Arrays\n"
   ]
  },
  {
   "cell_type": "markdown",
   "metadata": {},
   "source": [
    "These exercises give you practice accessing individual elements of arrays.  In Python (and in many programming languages), elements are accessed by *index*, so the first element is the element at index 0.  "
   ]
  },
  {
   "cell_type": "markdown",
   "metadata": {},
   "source": [
    "**Question 1.** The cell below creates an array of some numbers.  Set `third_element` to the third element of `some_numbers`."
   ]
  },
  {
   "cell_type": "code",
   "execution_count": 8,
   "metadata": {},
   "outputs": [
    {
     "data": {
      "text/plain": [
       "-6"
      ]
     },
     "execution_count": 8,
     "metadata": {},
     "output_type": "execute_result"
    }
   ],
   "source": [
    "some_numbers = np.array([-1, -3, -6, -10, -15])\n",
    "\n",
    "third_element = some_numbers[2]\n",
    "third_element"
   ]
  },
  {
   "cell_type": "markdown",
   "metadata": {},
   "source": [
    "**Question 2.** The next cell creates a table that displays some information about the elements of `some_numbers` and their order.  Run the cell to see the partially-completed table, then fill in the missing information in the cell (the strings that are currently \"???\") to complete the table."
   ]
  },
  {
   "cell_type": "code",
   "execution_count": 9,
   "metadata": {},
   "outputs": [
    {
     "data": {
      "text/html": [
       "<div>\n",
       "<style scoped>\n",
       "    .dataframe tbody tr th:only-of-type {\n",
       "        vertical-align: middle;\n",
       "    }\n",
       "\n",
       "    .dataframe tbody tr th {\n",
       "        vertical-align: top;\n",
       "    }\n",
       "\n",
       "    .dataframe thead th {\n",
       "        text-align: right;\n",
       "    }\n",
       "</style>\n",
       "<table border=\"1\" class=\"dataframe\">\n",
       "  <thead>\n",
       "    <tr style=\"text-align: right;\">\n",
       "      <th></th>\n",
       "      <th>English name for position</th>\n",
       "      <th>Index</th>\n",
       "      <th>Element</th>\n",
       "    </tr>\n",
       "  </thead>\n",
       "  <tbody>\n",
       "    <tr>\n",
       "      <th>0</th>\n",
       "      <td>first</td>\n",
       "      <td>0</td>\n",
       "      <td>-1</td>\n",
       "    </tr>\n",
       "    <tr>\n",
       "      <th>1</th>\n",
       "      <td>second</td>\n",
       "      <td>1</td>\n",
       "      <td>-3</td>\n",
       "    </tr>\n",
       "    <tr>\n",
       "      <th>2</th>\n",
       "      <td>third</td>\n",
       "      <td>2</td>\n",
       "      <td>-6</td>\n",
       "    </tr>\n",
       "    <tr>\n",
       "      <th>3</th>\n",
       "      <td>fourth</td>\n",
       "      <td>3</td>\n",
       "      <td>-10</td>\n",
       "    </tr>\n",
       "    <tr>\n",
       "      <th>4</th>\n",
       "      <td>fifth</td>\n",
       "      <td>4</td>\n",
       "      <td>-15</td>\n",
       "    </tr>\n",
       "  </tbody>\n",
       "</table>\n",
       "</div>"
      ],
      "text/plain": [
       "  English name for position Index  Element\n",
       "0                     first     0       -1\n",
       "1                    second     1       -3\n",
       "2                     third     2       -6\n",
       "3                    fourth     3      -10\n",
       "4                     fifth     4      -15"
      ]
     },
     "execution_count": 9,
     "metadata": {},
     "output_type": "execute_result"
    }
   ],
   "source": [
    "elements_of_some_numbers = pd.DataFrame({\n",
    "    \"English name for position\": np.array([\"first\", \"second\", \"third\", \"fourth\", \"fifth\"]),\n",
    "    \"Index\":                     np.array([\"0\", \"1\", \"2\", \"3\", \"4\"]),\n",
    "    \"Element\":                   some_numbers})\n",
    "elements_of_some_numbers"
   ]
  },
  {
   "cell_type": "markdown",
   "metadata": {},
   "source": [
    "**Question 3.** You'll sometimes want to find the *last* element of an array.  Suppose an array has 142 elements.  What is the index of its last element?"
   ]
  },
  {
   "cell_type": "code",
   "execution_count": 10,
   "metadata": {},
   "outputs": [],
   "source": [
    "index_of_last_element = [-1]"
   ]
  },
  {
   "cell_type": "markdown",
   "metadata": {},
   "source": [
    "**Question 4.** The cell below creates an 2d array.  \n",
    "* Let `eg_elem` to the element on the second row and third column (use indexing method).\n",
    "* Set `first_row` to the first row of `eg_mat`. \n",
    "* Set `third_column` to the third column of `eg_mat`. \n",
    "* Set `two_cols` to the second and third columns of `eg_mat`. \n",
    "* Set `sub_mat` to the last two rows and two columns of `eg_mat`., i.e. $\\left(\\begin{array}{cc} \n",
    "6 & 7\\\\ \n",
    "10 & 11\n",
    "\\end{array}\\right)$"
   ]
  },
  {
   "cell_type": "code",
   "execution_count": 11,
   "metadata": {},
   "outputs": [
    {
     "data": {
      "text/plain": [
       "array([[ 0,  1,  2,  3],\n",
       "       [ 4,  5,  6,  7],\n",
       "       [ 8,  9, 10, 11]])"
      ]
     },
     "execution_count": 11,
     "metadata": {},
     "output_type": "execute_result"
    }
   ],
   "source": [
    "eg_mat = np.arange(12).reshape(3,4)\n",
    "eg_mat"
   ]
  },
  {
   "cell_type": "code",
   "execution_count": 12,
   "metadata": {},
   "outputs": [
    {
     "data": {
      "text/plain": [
       "6"
      ]
     },
     "execution_count": 12,
     "metadata": {},
     "output_type": "execute_result"
    }
   ],
   "source": [
    "eg_elem = eg_mat[1,2]\n",
    "eg_elem"
   ]
  },
  {
   "cell_type": "code",
   "execution_count": 13,
   "metadata": {},
   "outputs": [
    {
     "data": {
      "text/plain": [
       "array([[0, 1, 2, 3]])"
      ]
     },
     "execution_count": 13,
     "metadata": {},
     "output_type": "execute_result"
    }
   ],
   "source": [
    "first_row = eg_mat[:1]\n",
    "first_row"
   ]
  },
  {
   "cell_type": "code",
   "execution_count": 14,
   "metadata": {},
   "outputs": [
    {
     "data": {
      "text/plain": [
       "array([ 2,  6, 10])"
      ]
     },
     "execution_count": 14,
     "metadata": {},
     "output_type": "execute_result"
    }
   ],
   "source": [
    "third_column = eg_mat[:,2]\n",
    "third_column"
   ]
  },
  {
   "cell_type": "code",
   "execution_count": 15,
   "metadata": {},
   "outputs": [
    {
     "data": {
      "text/plain": [
       "array([[ 1,  2],\n",
       "       [ 5,  6],\n",
       "       [ 9, 10]])"
      ]
     },
     "execution_count": 15,
     "metadata": {},
     "output_type": "execute_result"
    }
   ],
   "source": [
    "two_cols = eg_mat[:,[1,2]]\n",
    "two_cols"
   ]
  },
  {
   "cell_type": "code",
   "execution_count": 16,
   "metadata": {},
   "outputs": [
    {
     "data": {
      "text/plain": [
       "array([[ 6,  7],\n",
       "       [10, 11]])"
      ]
     },
     "execution_count": 16,
     "metadata": {},
     "output_type": "execute_result"
    }
   ],
   "source": [
    "sub_mat = eg_mat[1:,2:]\n",
    "sub_mat"
   ]
  },
  {
   "cell_type": "markdown",
   "metadata": {},
   "source": [
    "**Question 5.** Reverse a vector (first element becomes last)\n",
    "\n",
    "* Method 1: Use the reversed indexing"
   ]
  },
  {
   "cell_type": "code",
   "execution_count": 17,
   "metadata": {},
   "outputs": [
    {
     "data": {
      "text/plain": [
       "array([2, 3, 4, 5, 6, 7, 8, 9])"
      ]
     },
     "execution_count": 17,
     "metadata": {},
     "output_type": "execute_result"
    }
   ],
   "source": [
    "vec = np.arange(2,10)\n",
    "vec"
   ]
  },
  {
   "cell_type": "code",
   "execution_count": 18,
   "metadata": {},
   "outputs": [
    {
     "data": {
      "text/plain": [
       "array([7, 6, 5, 4, 3, 2, 1, 0])"
      ]
     },
     "execution_count": 18,
     "metadata": {},
     "output_type": "execute_result"
    }
   ],
   "source": [
    "reversed_index = np.arange(7,-1,-1) \n",
    "reversed_index"
   ]
  },
  {
   "cell_type": "code",
   "execution_count": 19,
   "metadata": {},
   "outputs": [
    {
     "name": "stdout",
     "output_type": "stream",
     "text": [
      "vector = [2 3 4 5 6 7 8 9]\n",
      "reversed vector = [9 8 7 6 5 4 3 2]\n"
     ]
    }
   ],
   "source": [
    "print(\"vector =\", vec)\n",
    "rev_vec1 = np.arange(9,-1,-1)[:8]\n",
    "print(\"reversed vector =\", rev_vec1)"
   ]
  },
  {
   "cell_type": "markdown",
   "metadata": {},
   "source": [
    "What's the meaning of the arguments of `reversed_index`? What's the meaning of `7`,`-1` and `-1`?"
   ]
  },
  {
   "cell_type": "code",
   "execution_count": 20,
   "metadata": {},
   "outputs": [],
   "source": [
    "## 7 is the start, -1 is the stop, -1 is the step"
   ]
  },
  {
   "cell_type": "markdown",
   "metadata": {},
   "source": [
    "* Method 2: Use the `np.flip` function\n",
    "Since we didn't learn the `np.flip` function before, try to run the following cell to know the usage of it."
   ]
  },
  {
   "cell_type": "code",
   "execution_count": 21,
   "metadata": {},
   "outputs": [],
   "source": [
    "# Try to run this cell to learn how to use a new command/function\n",
    "? np.flip"
   ]
  },
  {
   "cell_type": "code",
   "execution_count": 22,
   "metadata": {},
   "outputs": [
    {
     "name": "stdout",
     "output_type": "stream",
     "text": [
      "vector = [2 3 4 5 6 7 8 9]\n",
      "reversed vector = [9 8 7 6 5 4 3 2]\n"
     ]
    }
   ],
   "source": [
    "print(\"vector =\", vec)\n",
    "rev_vec2 = np.flip(vec)\n",
    "print(\"reversed vector =\", rev_vec2)"
   ]
  },
  {
   "cell_type": "markdown",
   "metadata": {},
   "source": [
    "**Question 6:** \n",
    "* Find how many non-zero elements in the 1d array [1,2,0,0,4,0] \n",
    "* Find how many non-zero elements in each row of the 2d array \n",
    "$\\left(\\begin{array}{cc} \n",
    "1 & 0 & 2 & 0 \\\\\n",
    "0 & 0 & 3 & 4 \\\\\n",
    "5 & 6 & 0 & 7 \\\\\n",
    "0 & 8 & 9 & 0 \\\\\n",
    "\\end{array}\\right)$\n",
    "* Find how many non-zero elements in each column of the above 2d array \n",
    "\n",
    "Hint: in python, we use `==` or `!=` to find the condition is right or not"
   ]
  },
  {
   "cell_type": "code",
   "execution_count": 23,
   "metadata": {},
   "outputs": [
    {
     "name": "stdout",
     "output_type": "stream",
     "text": [
      "The output of `a==0`: [ True False False]\n",
      "The output of `a!=0`: [False  True  True]\n"
     ]
    }
   ],
   "source": [
    "## Here is an example\n",
    "a = np.arange(3)\n",
    "print(\"The output of `a==0`:\", a == 0)\n",
    "print(\"The output of `a!=0`:\", a != 0)"
   ]
  },
  {
   "cell_type": "code",
   "execution_count": 163,
   "metadata": {},
   "outputs": [
    {
     "data": {
      "text/plain": [
       "1"
      ]
     },
     "execution_count": 163,
     "metadata": {},
     "output_type": "execute_result"
    }
   ],
   "source": [
    "matrix = np.array([[1, 0, 2, 0],[0, 0, 3, 4],[5, 6, 0, 7], [0, 8, 9, 0]])\n",
    "len(matrix[matrix[:,2]==0])"
   ]
  },
  {
   "cell_type": "code",
   "execution_count": 165,
   "metadata": {},
   "outputs": [
    {
     "name": "stdout",
     "output_type": "stream",
     "text": [
      "The total number of non-zero elements in the array are: 3\n",
      "-------------------------- Part B --------------------------\n",
      "The total number of non-zero elements in the matrix row 1 are: 2\n",
      "The total number of non-zero elements in the matrix row 2 are: 2\n",
      "The total number of non-zero elements in the matrix row 3 are: 1\n",
      "The total number of non-zero elements in the matrix row 4 are: 2\n",
      "-------------------------- Part C --------------------------\n",
      "The total number of non-zero elements in the matrix row 1 are: 2\n",
      "The total number of non-zero elements in the matrix row 2 are: 2\n",
      "The total number of non-zero elements in the matrix row 3 are: 1\n",
      "The total number of non-zero elements in the matrix row 4 are: 2\n"
     ]
    }
   ],
   "source": [
    "# write your answer of question 6 here\n",
    "\n",
    "# Part A\n",
    "array = np.array([1, 2, 0, 0, 4, 0])\n",
    "print('The total number of non-zero elements in the array are:',len(array[array==0]))\n",
    "\n",
    "print('-------------------------- Part B --------------------------')\n",
    "\n",
    "matrix = np.array([[1, 0, 2, 0],[0, 0, 3, 4],[5, 6, 0, 7], [0, 8, 9, 0]])\n",
    "for i in range(len(matrix)):\n",
    "    print('The total number of non-zero elements in the matrix row '+str(i+1)+' are:',len(matrix[matrix[i]==0]))    \n",
    "\n",
    "print('-------------------------- Part C --------------------------')\n",
    "\n",
    "matrix = np.array([[1, 0, 2, 0],[0, 0, 3, 4],[5, 6, 0, 7], [0, 8, 9, 0]])\n",
    "true = 0\n",
    "for i in range(len(matrix.T)):\n",
    "    print('The total number of non-zero elements in the matrix row '+str(i+1)+' are:',len(matrix[matrix[:,i]==0])) "
   ]
  },
  {
   "cell_type": "markdown",
   "metadata": {},
   "source": [
    "## 3. Basic Array Arithmetic\n"
   ]
  },
  {
   "cell_type": "markdown",
   "metadata": {},
   "source": [
    "**Question 1.** Multiply the numbers 42, 4224, 42422424, and -250 by 157.  For this question, **don't** use arrays."
   ]
  },
  {
   "cell_type": "code",
   "execution_count": 55,
   "metadata": {},
   "outputs": [
    {
     "name": "stdout",
     "output_type": "stream",
     "text": [
      "6594 663168 6660320568 -39250\n"
     ]
    }
   ],
   "source": [
    "first_product = 42 * 157\n",
    "second_product = 4224 * 157\n",
    "third_product = 42422424 * 157\n",
    "fourth_product = -250 * 157\n",
    "print(first_product, second_product, third_product, fourth_product)"
   ]
  },
  {
   "cell_type": "markdown",
   "metadata": {},
   "source": [
    "**Question 2.** Now, do the same calculation, but using an array called `numbers` and only a single multiplication (`*`) operator.  Store the 4 results in an array named `products`."
   ]
  },
  {
   "cell_type": "code",
   "execution_count": 58,
   "metadata": {},
   "outputs": [
    {
     "data": {
      "text/plain": [
       "array([      6594,     663168, 6660320568,     -39250])"
      ]
     },
     "execution_count": 58,
     "metadata": {},
     "output_type": "execute_result"
    }
   ],
   "source": [
    "numbers = np.array([42, 4224, 42422424, -250])\n",
    "products = numbers * 157\n",
    "products"
   ]
  },
  {
   "cell_type": "markdown",
   "metadata": {},
   "source": [
    "**Question 3.** Oops, we made a typo!  Instead of 157, we wanted to multiply each number by 1577.  Compute the fixed products in the cell below using array arithmetic.  Notice that your job is really easy if you previously defined an array containing the 4 numbers."
   ]
  },
  {
   "cell_type": "code",
   "execution_count": 59,
   "metadata": {},
   "outputs": [
    {
     "data": {
      "text/plain": [
       "array([      66234,     6661248, 66900162648,     -394250])"
      ]
     },
     "execution_count": 59,
     "metadata": {},
     "output_type": "execute_result"
    }
   ],
   "source": [
    "fixed_products = numbers * 1577\n",
    "fixed_products"
   ]
  },
  {
   "cell_type": "markdown",
   "metadata": {},
   "source": [
    "**Question 4.** We've loaded an array of temperatures in the next cell.  Each number is the highest temperature observed on a day at a climate observation station, mostly from the US.  Since they're from the US government agency [NOAA](noaa.gov), all the temperatures are in Fahrenheit.  Convert them all to Celsius by first subtracting 32 from them, then multiplying the results by $\\frac{5}{9}$. Make sure to **ROUND** each result to the nearest integer using the `np.round` function.\n",
    "\n",
    "Hint: The first line of code is out of our scope now, and we will learn it next week. If you have trouble understanding, please print the \"maximum temperature\" to take a look, it is essentially an array."
   ]
  },
  {
   "cell_type": "code",
   "execution_count": 63,
   "metadata": {},
   "outputs": [
    {
     "data": {
      "text/plain": [
       "array([-4., 31., 32., ..., 17., 23., 16.])"
      ]
     },
     "execution_count": 63,
     "metadata": {},
     "output_type": "execute_result"
    }
   ],
   "source": [
    "max_temperatures = pd.read_csv(\"temperatures.csv\")[\"Daily Max Temperature\"].to_numpy()\n",
    "\n",
    "celsius_max_temperatures = np.round((max_temperatures-32)*5/9)\n",
    "celsius_max_temperatures"
   ]
  },
  {
   "cell_type": "markdown",
   "metadata": {},
   "source": [
    "**Question 5.** The cell below loads all the *lowest* temperatures from each day (in Fahrenheit).  Compute the size of the daily temperature range for each day.  That is, compute the difference between each daily maximum temperature and the corresponding daily minimum temperature.  **Give your answer in Celsius!** Make sure **NOT** to round your answer for this question!"
   ]
  },
  {
   "cell_type": "code",
   "execution_count": 70,
   "metadata": {},
   "outputs": [
    {
     "data": {
      "text/plain": [
       "array([ 6.66666667, 10.        , 12.22222222, ..., 17.22222222,\n",
       "       11.66666667, 11.11111111])"
      ]
     },
     "execution_count": 70,
     "metadata": {},
     "output_type": "execute_result"
    }
   ],
   "source": [
    "min_temperatures = pd.read_csv(\"temperatures.csv\")[\"Daily Min Temperature\"].to_numpy()\n",
    "\n",
    "celsius_temperature_ranges = (max_temperatures-32)*5/9 - (min_temperatures-32)*5/9\n",
    "celsius_temperature_ranges"
   ]
  },
  {
   "cell_type": "markdown",
   "metadata": {},
   "source": [
    "**Question 6:** Compute the matrix multiplication using python\n",
    "\n",
    "$$\\left(\\begin{array}{cc} \n",
    "1 & 2 & 3 & 4 \\\\\n",
    "2 & 3 & 4 & 5 \\\\\n",
    "5 & 6 & 7 & 8 \\\\\n",
    "\\end{array}\\right) \\times \n",
    "\\left(\\begin{array}{cc} \n",
    "1 & 2 \\\\\n",
    "2 & 3 \\\\\n",
    "5 & 6 \\\\\n",
    "\\end{array}\\right) = ?\n",
    "$$"
   ]
  },
  {
   "cell_type": "code",
   "execution_count": 148,
   "metadata": {},
   "outputs": [
    {
     "ename": "ValueError",
     "evalue": "operands could not be broadcast together with shapes (3,4) (3,2) ",
     "output_type": "error",
     "traceback": [
      "\u001b[0;31m---------------------------------------------------------------------------\u001b[0m",
      "\u001b[0;31mValueError\u001b[0m                                Traceback (most recent call last)",
      "\u001b[0;32m<ipython-input-148-1aeb19ebe2d9>\u001b[0m in \u001b[0;36m<module>\u001b[0;34m\u001b[0m\n\u001b[1;32m      2\u001b[0m \u001b[0mb\u001b[0m \u001b[0;34m=\u001b[0m \u001b[0mnp\u001b[0m\u001b[0;34m.\u001b[0m\u001b[0marray\u001b[0m\u001b[0;34m(\u001b[0m\u001b[0;34m[\u001b[0m\u001b[0;34m[\u001b[0m\u001b[0;36m1\u001b[0m\u001b[0;34m,\u001b[0m \u001b[0;36m2\u001b[0m\u001b[0;34m]\u001b[0m\u001b[0;34m,\u001b[0m \u001b[0;34m[\u001b[0m\u001b[0;36m2\u001b[0m\u001b[0;34m,\u001b[0m \u001b[0;36m3\u001b[0m\u001b[0;34m]\u001b[0m\u001b[0;34m,\u001b[0m \u001b[0;34m[\u001b[0m\u001b[0;36m5\u001b[0m\u001b[0;34m,\u001b[0m \u001b[0;36m6\u001b[0m\u001b[0;34m]\u001b[0m\u001b[0;34m]\u001b[0m\u001b[0;34m)\u001b[0m\u001b[0;34m\u001b[0m\u001b[0;34m\u001b[0m\u001b[0m\n\u001b[1;32m      3\u001b[0m \u001b[0;34m\u001b[0m\u001b[0m\n\u001b[0;32m----> 4\u001b[0;31m \u001b[0mnp\u001b[0m\u001b[0;34m.\u001b[0m\u001b[0mmultiply\u001b[0m\u001b[0;34m(\u001b[0m\u001b[0ma\u001b[0m\u001b[0;34m,\u001b[0m\u001b[0mb\u001b[0m\u001b[0;34m)\u001b[0m\u001b[0;34m\u001b[0m\u001b[0;34m\u001b[0m\u001b[0m\n\u001b[0m",
      "\u001b[0;31mValueError\u001b[0m: operands could not be broadcast together with shapes (3,4) (3,2) "
     ]
    }
   ],
   "source": [
    "a = np.array([[1, 2, 3, 4], [2, 3, 4, 5], [5, 6, 7, 8]])\n",
    "b = np.array([[1, 2], [2, 3], [5, 6]])\n",
    "\n",
    "np.multiply(a,b)"
   ]
  },
  {
   "cell_type": "code",
   "execution_count": 150,
   "metadata": {},
   "outputs": [],
   "source": [
    "# Cant do due to incorrect dimensions ^ yet we can do something like\n",
    "m1 = np.multiply(a[:,:2],b) # or\n",
    "m2 = np.multiply(a[:,2:],b) \n",
    "\n",
    "# we must change the shape of matrix A to multiply by matrix B"
   ]
  },
  {
   "cell_type": "markdown",
   "metadata": {},
   "source": [
    "## 4. World Population\n"
   ]
  },
  {
   "cell_type": "markdown",
   "metadata": {
    "collapsed": true
   },
   "source": [
    "The cell below loads a table of estimates of the world population for different years, starting in 1950. The estimates come from the [US Census Bureau website](https://www.census.gov/en.html)."
   ]
  },
  {
   "cell_type": "code",
   "execution_count": 102,
   "metadata": {},
   "outputs": [
    {
     "data": {
      "text/html": [
       "<div>\n",
       "<style scoped>\n",
       "    .dataframe tbody tr th:only-of-type {\n",
       "        vertical-align: middle;\n",
       "    }\n",
       "\n",
       "    .dataframe tbody tr th {\n",
       "        vertical-align: top;\n",
       "    }\n",
       "\n",
       "    .dataframe thead th {\n",
       "        text-align: right;\n",
       "    }\n",
       "</style>\n",
       "<table border=\"1\" class=\"dataframe\">\n",
       "  <thead>\n",
       "    <tr style=\"text-align: right;\">\n",
       "      <th></th>\n",
       "      <th>Year</th>\n",
       "      <th>Population</th>\n",
       "    </tr>\n",
       "  </thead>\n",
       "  <tbody>\n",
       "    <tr>\n",
       "      <th>0</th>\n",
       "      <td>1950</td>\n",
       "      <td>2557628654</td>\n",
       "    </tr>\n",
       "    <tr>\n",
       "      <th>1</th>\n",
       "      <td>1951</td>\n",
       "      <td>2594939877</td>\n",
       "    </tr>\n",
       "    <tr>\n",
       "      <th>2</th>\n",
       "      <td>1952</td>\n",
       "      <td>2636772306</td>\n",
       "    </tr>\n",
       "    <tr>\n",
       "      <th>3</th>\n",
       "      <td>1953</td>\n",
       "      <td>2682053389</td>\n",
       "    </tr>\n",
       "    <tr>\n",
       "      <th>4</th>\n",
       "      <td>1954</td>\n",
       "      <td>2730228104</td>\n",
       "    </tr>\n",
       "  </tbody>\n",
       "</table>\n",
       "</div>"
      ],
      "text/plain": [
       "   Year  Population\n",
       "0  1950  2557628654\n",
       "1  1951  2594939877\n",
       "2  1952  2636772306\n",
       "3  1953  2682053389\n",
       "4  1954  2730228104"
      ]
     },
     "execution_count": 102,
     "metadata": {},
     "output_type": "execute_result"
    }
   ],
   "source": [
    "world = pd.read_csv(\"world_population.csv\")[['Year', 'Population']]\n",
    "world.head(5)"
   ]
  },
  {
   "cell_type": "markdown",
   "metadata": {},
   "source": [
    "The name `population` is assigned to an array of population estimates."
   ]
  },
  {
   "cell_type": "code",
   "execution_count": 103,
   "metadata": {},
   "outputs": [
    {
     "data": {
      "text/plain": [
       "array([2557628654, 2594939877, 2636772306, 2682053389, 2730228104,\n",
       "       2782098943, 2835299673, 2891349717, 2948137248, 3000716593,\n",
       "       3043001508, 3083966929, 3140093217, 3209827882, 3281201306,\n",
       "       3350425793, 3420677923, 3490333715, 3562313822, 3637159050,\n",
       "       3712697742, 3790326948, 3866568653, 3942096442, 4016608813,\n",
       "       4089083233, 4160185010, 4232084578, 4304105753, 4379013942,\n",
       "       4451362735, 4534410125, 4614566561, 4695736743, 4774569391,\n",
       "       4856462699, 4940571232, 5027200492, 5114557167, 5201440110,\n",
       "       5288955934, 5371585922, 5456136278, 5538268316, 5618682132,\n",
       "       5699202985, 5779440593, 5857972543, 5935213248, 6012074922,\n",
       "       6088571383, 6165219247, 6242016348, 6318590956, 6395699509,\n",
       "       6473044732, 6551263534, 6629913759, 6709049780, 6788214394,\n",
       "       6866332358, 6944055583, 7022349283, 7101027895, 7178722893,\n",
       "       7256490011])"
      ]
     },
     "execution_count": 103,
     "metadata": {},
     "output_type": "execute_result"
    }
   ],
   "source": [
    "population = world['Population'].to_numpy()\n",
    "population"
   ]
  },
  {
   "cell_type": "markdown",
   "metadata": {},
   "source": [
    "In this question, you will apply some built-in Numpy functions to this array."
   ]
  },
  {
   "cell_type": "markdown",
   "metadata": {},
   "source": [
    "<img src=\"array_diff.png\" style=\"width: 600px;\"/>\n",
    "\n",
    "The difference function `np.diff` subtracts each element in an array by the element that preceeds it. As a result, the length of the array `np.diff` returns will always be one less than the length of the input array."
   ]
  },
  {
   "cell_type": "markdown",
   "metadata": {},
   "source": [
    "<img src=\"array_cumsum.png\" style=\"width: 700px;\"/>\n",
    "\n",
    "The cumulative sum function `np.cumsum` outputs an array of partial sums. For example, the third element in the output array corresponds to the sum of the first, second, and third elements."
   ]
  },
  {
   "cell_type": "markdown",
   "metadata": {},
   "source": [
    "**Question 1.** Very often in data science, we are interested understanding how values change with time. Use `np.diff` and `np.max` (or just `max`) to calculate the largest annual change in population between any two consecutive years."
   ]
  },
  {
   "cell_type": "code",
   "execution_count": 105,
   "metadata": {},
   "outputs": [
    {
     "data": {
      "text/plain": [
       "87515824"
      ]
     },
     "execution_count": 105,
     "metadata": {},
     "output_type": "execute_result"
    }
   ],
   "source": [
    "largest_population_change = np.max(np.diff(population))\n",
    "largest_population_change"
   ]
  },
  {
   "cell_type": "markdown",
   "metadata": {},
   "source": [
    "**Question 2.** Describe in words the result of the following expression. What do the values in the resulting array represent (choose one)?"
   ]
  },
  {
   "cell_type": "markdown",
   "metadata": {},
   "source": [
    " #### This expression means we find the difference of the population growth for each element change (ex. for [a, b, c] we find that the difference for this element would be [b-a, c-b]) and THEN we sum up each of the elements by the ones that follow, resulting in the first element being the first element of the input array, and the final element being the total sum of the array."
   ]
  },
  {
   "cell_type": "code",
   "execution_count": 106,
   "metadata": {},
   "outputs": [
    {
     "data": {
      "text/plain": [
       "array([  37311223,   79143652,  124424735,  172599450,  224470289,\n",
       "        277671019,  333721063,  390508594,  443087939,  485372854,\n",
       "        526338275,  582464563,  652199228,  723572652,  792797139,\n",
       "        863049269,  932705061, 1004685168, 1079530396, 1155069088,\n",
       "       1232698294, 1308939999, 1384467788, 1458980159, 1531454579,\n",
       "       1602556356, 1674455924, 1746477099, 1821385288, 1893734081,\n",
       "       1976781471, 2056937907, 2138108089, 2216940737, 2298834045,\n",
       "       2382942578, 2469571838, 2556928513, 2643811456, 2731327280,\n",
       "       2813957268, 2898507624, 2980639662, 3061053478, 3141574331,\n",
       "       3221811939, 3300343889, 3377584594, 3454446268, 3530942729,\n",
       "       3607590593, 3684387694, 3760962302, 3838070855, 3915416078,\n",
       "       3993634880, 4072285105, 4151421126, 4230585740, 4308703704,\n",
       "       4386426929, 4464720629, 4543399241, 4621094239, 4698861357])"
      ]
     },
     "execution_count": 106,
     "metadata": {},
     "output_type": "execute_result"
    }
   ],
   "source": [
    "np.cumsum(np.diff(population)) #for those of you know how to program, can you rewrite this using a loop?"
   ]
  },
  {
   "cell_type": "markdown",
   "metadata": {},
   "source": [
    "1) The total population change between consecutive years, starting at 1951.\n",
    "\n",
    "2) The total population change between 1950 and each later year, starting at 1951.\n",
    "\n",
    "3) The total population change between 1950 and each later year, starting inclusively at 1950."
   ]
  },
  {
   "cell_type": "code",
   "execution_count": 108,
   "metadata": {},
   "outputs": [],
   "source": [
    "# Assign cumulative_sum_answer to 1, 2, or 3\n",
    "cumulative_sum_answer = 3"
   ]
  },
  {
   "cell_type": "markdown",
   "metadata": {},
   "source": [
    "## 5. Old Faithful\n"
   ]
  },
  {
   "cell_type": "markdown",
   "metadata": {},
   "source": [
    "Old Faithful is a geyser in Yellowstone that erupts every 44 to 125 minutes (according to [Wikipedia](https://en.wikipedia.org/wiki/Old_Faithful)). People are [often told that the geyser erupts every hour](http://yellowstone.net/geysers/old-faithful/), but in fact the waiting time between eruptions is more variable. Let's take a look."
   ]
  },
  {
   "cell_type": "markdown",
   "metadata": {},
   "source": [
    "**Question 1.** The first line below assigns `waiting_times` to an array of 272 consecutive waiting times between eruptions, taken from a classic 1938 dataset. Assign the names `shortest`, `longest`, and `average` so that the `print` statement is correct."
   ]
  },
  {
   "cell_type": "code",
   "execution_count": 109,
   "metadata": {},
   "outputs": [
    {
     "name": "stdout",
     "output_type": "stream",
     "text": [
      "Old Faithful erupts every 43 to 96 minutes and every 70.8970588235294 minutes on average.\n"
     ]
    }
   ],
   "source": [
    "waiting_times = pd.read_csv('old_faithful.csv')['waiting'].to_numpy()\n",
    "\n",
    "shortest = np.min(waiting_times)\n",
    "longest = np.max(waiting_times)\n",
    "average = np.mean(waiting_times)\n",
    "\n",
    "print(\"Old Faithful erupts every\", shortest, \"to\", longest, \"minutes and every\", average, \"minutes on average.\")"
   ]
  },
  {
   "cell_type": "markdown",
   "metadata": {},
   "source": [
    "**Question 2.** Assign `biggest_difference` to the biggest difference in waiting time between two consecutive eruptions. For example, the third eruption occurred after 74 minutes and the fourth after 62 minutes, so the difference in waiting time was 74 - 62 = 12 minutes. \n",
    "\n",
    "*Hint*: You'll need an array arithmetic function [mentioned in the textbook](https://www.inferentialthinking.com/chapters/05/1/arrays.html#Functions-on-Arrays).\n",
    "\n",
    "*Hint 2*: The biggest difference could be negative, but in the end, we want to return the absolute value of the biggest difference"
   ]
  },
  {
   "cell_type": "code",
   "execution_count": 120,
   "metadata": {},
   "outputs": [
    {
     "data": {
      "text/plain": [
       "47"
      ]
     },
     "execution_count": 120,
     "metadata": {},
     "output_type": "execute_result"
    }
   ],
   "source": [
    "biggest_difference = np.max(np.abs(np.diff(waiting_times)))\n",
    "biggest_difference"
   ]
  },
  {
   "cell_type": "markdown",
   "metadata": {},
   "source": [
    "**Question 3.** If you expected Old Faithful to erupt every hour, you would expect to wait a total of `60 * k` minutes to see `k` eruptions. Set `difference_from_expected` to an array with 272 elements, where the element at index `i` is the absolute difference between the expected and actual total amount of waiting time to see the first `i+1` eruptions.  *Hint*: You'll need to compare a cumulative sum to a range.\n",
    "\n",
    "For example, since the first three waiting times are 79, 54, and 74, the total waiting time for 3 eruptions is 79 + 54 + 74 = 207. The expected waiting time for 3 eruptions is 60 * 3 = 180. Therefore, `difference_from_expected.item(2)` should be $|207 - 180| = 27$."
   ]
  },
  {
   "cell_type": "code",
   "execution_count": 132,
   "metadata": {},
   "outputs": [
    {
     "data": {
      "text/plain": [
       "array([  19.,   13.,   27.,   29.,   54.,   49.,   77.,  102.,   93.,\n",
       "        118.,  112.,  136.,  154.,  141.,  164.,  156.,  158.,  182.,\n",
       "        174.,  193.,  184.,  171.,  189.,  198.,  212.,  235.,  230.,\n",
       "        246.,  264.,  283.,  296.,  313.,  319.,  339.,  353.,  345.,\n",
       "        333.,  353.,  352.,  382.,  402.,  400.,  424.,  422.,  435.,\n",
       "        458.,  462.,  455.,  477.,  476.,  491.,  521.,  515.,  535.,\n",
       "        529.,  552.,  563.,  567.,  584.,  605.,  604.,  628.,  616.,\n",
       "        638.,  638.,  670.,  688.,  706.,  711.,  724.,  746.,  742.,\n",
       "        761.,  772.,  774.,  790.,  790.,  808.,  824.,  847.,  862.,\n",
       "        884.,  894.,  899.,  912.,  940.,  956.,  976.,  964.,  990.,\n",
       "        990., 1020., 1010., 1028., 1031., 1043., 1067., 1082., 1073.,\n",
       "       1095., 1097., 1125., 1114., 1137., 1158., 1145., 1169., 1161.,\n",
       "       1187., 1208., 1223., 1222., 1251., 1270., 1269., 1290., 1280.,\n",
       "       1305., 1304., 1331., 1324., 1333., 1350., 1346., 1374., 1395.,\n",
       "       1380., 1402., 1397., 1427., 1412., 1435., 1431., 1460., 1446.,\n",
       "       1468., 1459., 1485., 1478., 1497., 1518., 1518., 1540., 1557.,\n",
       "       1573., 1572., 1592., 1581., 1617., 1610., 1627., 1644., 1649.,\n",
       "       1670., 1681., 1691., 1712., 1745., 1738., 1767., 1752., 1778.,\n",
       "       1776., 1794., 1800., 1816., 1819., 1847., 1839., 1872., 1861.,\n",
       "       1858., 1875., 1883., 1904., 1925., 1938., 1928., 1953., 1967.,\n",
       "       1962., 1979., 2002., 2025., 2016., 2034., 2058., 2044., 2067.,\n",
       "       2062., 2083., 2080., 2096., 2120., 2137., 2158., 2185., 2202.,\n",
       "       2193., 2211., 2211., 2233., 2264., 2257., 2275., 2261., 2278.,\n",
       "       2302., 2291., 2314., 2325., 2345., 2334., 2349., 2353., 2369.,\n",
       "       2362., 2396., 2391., 2407., 2397., 2419., 2413., 2428., 2446.,\n",
       "       2465., 2483., 2501., 2511., 2530., 2540., 2534., 2560., 2550.,\n",
       "       2580., 2574., 2568., 2585., 2604., 2608., 2623., 2610., 2636.,\n",
       "       2639., 2664., 2686., 2683., 2705., 2712., 2726., 2720., 2743.,\n",
       "       2756., 2769., 2797., 2817., 2828., 2851., 2847., 2866., 2884.,\n",
       "       2908., 2906., 2929., 2912., 2912., 2927., 2948., 2934., 2964.,\n",
       "       2950., 2964.])"
      ]
     },
     "execution_count": 132,
     "metadata": {},
     "output_type": "execute_result"
    }
   ],
   "source": [
    "expected = np.zeros(272)+60\n",
    "difference_from_expected = np.cumsum(waiting_times) - np.cumsum(expected)\n",
    "difference_from_expected"
   ]
  },
  {
   "cell_type": "markdown",
   "metadata": {},
   "source": [
    "**Question 4.** If instead you guess that each waiting time will be the same as the previous waiting time, how many minutes would your guess differ from the actual time, averaging over every wait time except the first one.\n",
    "\n",
    "For example, since the first three waiting times are 79, 54, and 74, the average difference between your guess and the actual time for just the second and third eruption would be $\\frac{|79-54|+ |54-74|}{2} = 22.5$."
   ]
  },
  {
   "cell_type": "code",
   "execution_count": 139,
   "metadata": {},
   "outputs": [
    {
     "data": {
      "text/plain": [
       "array([22.5, 16. , 17.5, 26.5, 31.5, 18. , 15.5, 34. , 32.5, 30.5, 18. ,\n",
       "       12.5, 33.5, 33.5, 20.5,  6. , 27. , 29.5, 27.5, 12. , 17.5, 20. ,\n",
       "        7. ,  2. , 18.5, 24.5,  9.5,  0.5,  3.5,  5. ,  7.5, 12.5, 10. ,\n",
       "        8. ,  9. , 18. , 26.5, 26. , 20.5,  6. , 24. , 26. , 20.5,  2.5,\n",
       "       14.5,  4. , 20. , 26. , 19.5,  0.5, 25.5, 31. , 26. , 27.5, 20.5,\n",
       "        2.5, 10. ,  4.5, 13. , 23.5, 30.5, 35. , 28. , 27. , 23. ,  7. ,\n",
       "        6.5, 10.5,  0.5, 17.5, 24.5, 15.5,  0.5, 11.5, 15. , 17. , 10. ,\n",
       "        4.5,  7.5,  7.5,  9.5,  3.5,  6.5,  3.5, 13.5,  8. , 18. , 35. ,\n",
       "       32. , 28. , 35. , 34. , 21.5, 12. ,  1.5, 10.5,  7.5, 27.5, 25.5,\n",
       "       23. , 32.5, 36.5, 18. , 16. , 35.5, 34.5, 33. , 19.5,  0.5,  5. ,\n",
       "       23. , 20. ,  5. , 21. , 26.5, 33. , 30.5, 27. , 31. , 25. ,  4. ,\n",
       "       14.5, 26.5, 19.5, 14.5, 36.5, 32. , 31. , 40. , 41.5, 32.5, 30. ,\n",
       "       38. , 39.5, 33.5, 33. , 34. , 29.5, 12. , 11.5, 21.5, 13.5,  2. ,\n",
       "        8. , 19. , 26. , 39. , 45. , 33.5, 12. ,  6. , 14. , 13. ,  4.5,\n",
       "        6. ,  0.5, 26. , 38. , 40. , 42.5, 34.5, 24. , 16. , 11. , 11.5,\n",
       "       19. , 30.5, 38.5, 42.5, 26. ,  6. , 14.5, 11. ,  6.5,  4. ,  7.5,\n",
       "       29. , 23. ,  4. , 20.5,  8. ,  3. , 16. , 29.5, 10.5, 22. , 37.5,\n",
       "       32.5, 27. , 25. , 21.5,  5.5,  7.5,  5.5,  1. ,  8. ,  8. , 26.5,\n",
       "       22.5, 20. ,  6.5, 23.5, 31.5, 28.5, 31.5, 12. , 21. , 34.5, 23. ,\n",
       "       10.5, 20. , 28.5, 18.5, 11.5, 17.5, 32. , 40. , 30. , 23.5, 29. ,\n",
       "       30. , 24.5,  9. ,  1. ,  1. ,  0.5,  4. ,  8.5,  9. ,  3.5, 24. ,\n",
       "       34. , 38. , 38. , 18. , 11.5, 10.5,  8.5, 13. , 19.5, 33.5, 31. ,\n",
       "       22.5, 12.5, 11. , 25. , 20. , 11. , 13.5, 24.5, 19.5,  5. ,  7.5,\n",
       "       11.5,  0.5, 10.5, 19.5, 25. , 12. ,  3.5, 16. , 25.5, 32.5, 28.5,\n",
       "        1. ,  4.5, 20.5, 39.5, 44. , 36. ])"
      ]
     },
     "execution_count": 139,
     "metadata": {},
     "output_type": "execute_result"
    }
   ],
   "source": [
    "average_error = np.abs(np.diff(np.diff(waiting_times))/2)\n",
    "average_error"
   ]
  }
 ],
 "metadata": {
  "kernelspec": {
   "display_name": "Python 3",
   "language": "python",
   "name": "python3"
  },
  "language_info": {
   "codemirror_mode": {
    "name": "ipython",
    "version": 3
   },
   "file_extension": ".py",
   "mimetype": "text/x-python",
   "name": "python",
   "nbconvert_exporter": "python",
   "pygments_lexer": "ipython3",
   "version": "3.6.13"
  }
 },
 "nbformat": 4,
 "nbformat_minor": 1
}
