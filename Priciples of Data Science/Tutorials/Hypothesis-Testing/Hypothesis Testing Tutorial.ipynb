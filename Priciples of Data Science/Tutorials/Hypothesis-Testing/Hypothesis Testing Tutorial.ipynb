{
 "cells": [
  {
   "cell_type": "markdown",
   "metadata": {},
   "source": [
    "# Hypothesis Testing Tutorial"
   ]
  },
  {
   "cell_type": "code",
   "execution_count": 1,
   "metadata": {},
   "outputs": [],
   "source": [
    "import numpy as np\n",
    "import pandas as pd\n",
    "from scipy.stats import ttest_1samp, ttest_ind\n",
    "from statsmodels.stats.weightstats import ztest\n",
    "from statsmodels.stats.proportion import proportions_ztest"
   ]
  },
  {
   "cell_type": "markdown",
   "metadata": {},
   "source": [
    "## Problem 1: (20 points)\n",
    "\n",
    "We have the potato yield from 12 different farms. We know that the standard potato yield for the given variety is µ=20.\n",
    "\n",
    "x = [21.5, 24.5, 18.5, 17.2, 14.5, 23.2, 22.1, 20.5, 19.4, 18.1, 24.1, 18.5]\n",
    "\n",
    "Test if the potato yield from these farms is significantly better than the standard yield.\n"
   ]
  },
  {
   "cell_type": "markdown",
   "metadata": {},
   "source": [
    "**Question 1.1.** Which type of hypothesis test you will use?"
   ]
  },
  {
   "cell_type": "markdown",
   "metadata": {},
   "source": [
    "One sample, right sided, t-test"
   ]
  },
  {
   "cell_type": "markdown",
   "metadata": {},
   "source": [
    "**Question 1.2.** Define the Null and Alternate Hypothesis"
   ]
  },
  {
   "cell_type": "markdown",
   "metadata": {},
   "source": [
    "H0: $\\mu_{potato} = 20$\n",
    "\n",
    "H1: $\\mu_{potato} > 20$"
   ]
  },
  {
   "cell_type": "markdown",
   "metadata": {},
   "source": [
    "**Question 1.3.** Python implementation."
   ]
  },
  {
   "cell_type": "code",
   "execution_count": 2,
   "metadata": {},
   "outputs": [
    {
     "name": "stdout",
     "output_type": "stream",
     "text": [
      "20.175\n",
      "p-values 0.8446291893053613\n",
      "We are accepting null hypothesis\n"
     ]
    }
   ],
   "source": [
    "x = np.array([21.5, 24.5, 18.5, 17.2, 14.5, 23.2, 22.1, \n",
    "     20.5, 19.4, 18.1, 24.1, 18.5])\n",
    "x_mean = np.mean(x)\n",
    "print(x_mean)\n",
    "tset, pval = ttest_1samp(x, 20)\n",
    "print(\"p-values\",pval)\n",
    "if pval < 0.05:    # alpha value is 0.05 or 5%\n",
    "    print(\"We are rejecting null hypothesis\")\n",
    "else:\n",
    "    print(\"We are accepting null hypothesis\")"
   ]
  },
  {
   "cell_type": "markdown",
   "metadata": {},
   "source": [
    "**Question 1.4.** What is the conclusion? If the significant level is 0.05, reject the null hypothesis or not?"
   ]
  },
  {
   "cell_type": "markdown",
   "metadata": {},
   "source": [
    "As our p-value is significantly greater than 0.05, we fail to reject the null hypothesis that potato yield from these farms are not significantly better than the standard yield"
   ]
  },
  {
   "cell_type": "markdown",
   "metadata": {},
   "source": [
    "## Problem 2: (20 points)\n",
    "\n",
    "We collect the height of a study group which include 7 men and 7 women. We want to know whether the average height of men and women in this group is different. \n",
    "\n",
    "First, we import the dataset."
   ]
  },
  {
   "cell_type": "code",
   "execution_count": 3,
   "metadata": {},
   "outputs": [
    {
     "data": {
      "text/html": [
       "<div>\n",
       "<style scoped>\n",
       "    .dataframe tbody tr th:only-of-type {\n",
       "        vertical-align: middle;\n",
       "    }\n",
       "\n",
       "    .dataframe tbody tr th {\n",
       "        vertical-align: top;\n",
       "    }\n",
       "\n",
       "    .dataframe thead th {\n",
       "        text-align: right;\n",
       "    }\n",
       "</style>\n",
       "<table border=\"1\" class=\"dataframe\">\n",
       "  <thead>\n",
       "    <tr style=\"text-align: right;\">\n",
       "      <th></th>\n",
       "      <th>grouping</th>\n",
       "      <th>height</th>\n",
       "    </tr>\n",
       "  </thead>\n",
       "  <tbody>\n",
       "    <tr>\n",
       "      <th>0</th>\n",
       "      <td>men</td>\n",
       "      <td>181.5</td>\n",
       "    </tr>\n",
       "    <tr>\n",
       "      <th>1</th>\n",
       "      <td>men</td>\n",
       "      <td>187.3</td>\n",
       "    </tr>\n",
       "    <tr>\n",
       "      <th>2</th>\n",
       "      <td>men</td>\n",
       "      <td>175.3</td>\n",
       "    </tr>\n",
       "    <tr>\n",
       "      <th>3</th>\n",
       "      <td>men</td>\n",
       "      <td>178.3</td>\n",
       "    </tr>\n",
       "    <tr>\n",
       "      <th>4</th>\n",
       "      <td>men</td>\n",
       "      <td>169.0</td>\n",
       "    </tr>\n",
       "  </tbody>\n",
       "</table>\n",
       "</div>"
      ],
      "text/plain": [
       "  grouping  height\n",
       "0      men   181.5\n",
       "1      men   187.3\n",
       "2      men   175.3\n",
       "3      men   178.3\n",
       "4      men   169.0"
      ]
     },
     "execution_count": 3,
     "metadata": {},
     "output_type": "execute_result"
    }
   ],
   "source": [
    "data = 'https://gist.githubusercontent.com/baskaufs/1a7a995c1b25d6e88b45/raw/4bb17ccc5c1e62c27627833a4f25380f27d30b35/t-test.csv'\n",
    "df = pd.read_csv(data)\n",
    "\n",
    "df.head()"
   ]
  },
  {
   "cell_type": "markdown",
   "metadata": {},
   "source": [
    "**Question 2.1.**  Which type of hypothesis test you will use? Why? Then define the null and alternative hypothesis."
   ]
  },
  {
   "cell_type": "markdown",
   "metadata": {},
   "source": [
    "Two sample independent t-test\n",
    "\n",
    "H0: $\\mu_{men} - \\mu_{women} = 0$\n",
    "\n",
    "H1: $\\mu_{men} -  \\mu_{women} \\neq 0$"
   ]
  },
  {
   "cell_type": "markdown",
   "metadata": {},
   "source": [
    "**Question 2.2.** Before calculating some descriptive statistics, we will subset the data. Create an array `men_height` which extract the height of men samples from the dataframe. Create an array `women_height` which extract the height of women samples from the dataframe."
   ]
  },
  {
   "cell_type": "code",
   "execution_count": 4,
   "metadata": {},
   "outputs": [
    {
     "name": "stdout",
     "output_type": "stream",
     "text": [
      "Men mean: 179.8714285714286\n",
      "Women mean: 171.05714285714285\n",
      "Men std: 5.755671559604561\n",
      "Women std: 5.274969774553117\n"
     ]
    }
   ],
   "source": [
    "men_true = df.grouping=='men'\n",
    "women_true = np.logical_not(men_true)\n",
    "\n",
    "men_height = df.height.to_numpy()[men_true]\n",
    "women_height = df.height.to_numpy()[women_true]\n",
    "\n",
    "# finding the mean\n",
    "men_mean = np.mean(men_height)\n",
    "women_mean = np.mean(women_height)\n",
    "\n",
    "print('Men mean: '+str(men_mean))\n",
    "print('Women mean: '+str(women_mean))\n",
    "\n",
    "# finding the standard deviation\n",
    "men_std = np.std(men_height)\n",
    "women_std = np.std(women_height)\n",
    "\n",
    "print('Men std: '+str(men_std))\n",
    "print('Women std: '+str(women_std))"
   ]
  },
  {
   "cell_type": "markdown",
   "metadata": {},
   "source": [
    "**Question 2.3.** What is the mean and standard deviation of each group?"
   ]
  },
  {
   "cell_type": "markdown",
   "metadata": {},
   "source": [
    "$\\mu_{\\text{men}} = 179.87$, $\\mu_{\\text{women}} = 171.06$\n",
    "\n",
    "$\\sigma_{\\text{men}} = 5.756$, $\\sigma_{\\text{women}} = 5.275$"
   ]
  },
  {
   "cell_type": "markdown",
   "metadata": {},
   "source": [
    "**Question 2.4.** Hypothesis test python implementation."
   ]
  },
  {
   "cell_type": "code",
   "execution_count": 5,
   "metadata": {},
   "outputs": [
    {
     "name": "stdout",
     "output_type": "stream",
     "text": [
      "p-values 0.017105701528166175\n",
      "we are rejecting null hypothesis\n"
     ]
    }
   ],
   "source": [
    "tset,pval = ttest_ind(a=men_height, b=women_height, equal_var=True)\n",
    "print(\"p-values\",pval)\n",
    "if pval < 0.05:    # alpha value is 0.05 or 5%\n",
    "    print(\"we are rejecting null hypothesis\")\n",
    "else:\n",
    "    print(\"we are accepting null hypothesis\")"
   ]
  },
  {
   "cell_type": "markdown",
   "metadata": {},
   "source": [
    "**Question 2.5.** What is the conclusion? If the significant level is 0.05, reject the null hypothesis or not?"
   ]
  },
  {
   "cell_type": "markdown",
   "metadata": {},
   "source": [
    "As our p-value is less than 0.05 we reject the null hypothesis that  the average height of men and women in this group is not different."
   ]
  },
  {
   "cell_type": "markdown",
   "metadata": {},
   "source": [
    "## Problem 3: (15 points)\n",
    "\n",
    "In the population, the average IQ is 100 with a **standard deviation of 15**. A team of students want to test whether their average IQ is larger than 100. They collect the data and save all of them in a csv file.\n",
    "\n",
    "First, we import the data."
   ]
  },
  {
   "cell_type": "code",
   "execution_count": 6,
   "metadata": {},
   "outputs": [
    {
     "data": {
      "text/html": [
       "<div>\n",
       "<style scoped>\n",
       "    .dataframe tbody tr th:only-of-type {\n",
       "        vertical-align: middle;\n",
       "    }\n",
       "\n",
       "    .dataframe tbody tr th {\n",
       "        vertical-align: top;\n",
       "    }\n",
       "\n",
       "    .dataframe thead th {\n",
       "        text-align: right;\n",
       "    }\n",
       "</style>\n",
       "<table border=\"1\" class=\"dataframe\">\n",
       "  <thead>\n",
       "    <tr style=\"text-align: right;\">\n",
       "      <th></th>\n",
       "      <th>obs</th>\n",
       "      <th>gpa</th>\n",
       "      <th>iq</th>\n",
       "      <th>gender</th>\n",
       "      <th>concept</th>\n",
       "    </tr>\n",
       "  </thead>\n",
       "  <tbody>\n",
       "    <tr>\n",
       "      <th>0</th>\n",
       "      <td>1</td>\n",
       "      <td>7.940</td>\n",
       "      <td>111</td>\n",
       "      <td>2</td>\n",
       "      <td>67</td>\n",
       "    </tr>\n",
       "    <tr>\n",
       "      <th>1</th>\n",
       "      <td>2</td>\n",
       "      <td>8.292</td>\n",
       "      <td>107</td>\n",
       "      <td>2</td>\n",
       "      <td>43</td>\n",
       "    </tr>\n",
       "    <tr>\n",
       "      <th>2</th>\n",
       "      <td>3</td>\n",
       "      <td>4.643</td>\n",
       "      <td>100</td>\n",
       "      <td>2</td>\n",
       "      <td>52</td>\n",
       "    </tr>\n",
       "    <tr>\n",
       "      <th>3</th>\n",
       "      <td>4</td>\n",
       "      <td>7.470</td>\n",
       "      <td>107</td>\n",
       "      <td>2</td>\n",
       "      <td>66</td>\n",
       "    </tr>\n",
       "    <tr>\n",
       "      <th>4</th>\n",
       "      <td>5</td>\n",
       "      <td>8.882</td>\n",
       "      <td>114</td>\n",
       "      <td>1</td>\n",
       "      <td>58</td>\n",
       "    </tr>\n",
       "  </tbody>\n",
       "</table>\n",
       "</div>"
      ],
      "text/plain": [
       "   obs    gpa   iq  gender  concept\n",
       "0    1  7.940  111       2       67\n",
       "1    2  8.292  107       2       43\n",
       "2    3  4.643  100       2       52\n",
       "3    4  7.470  107       2       66\n",
       "4    5  8.882  114       1       58"
      ]
     },
     "execution_count": 6,
     "metadata": {},
     "output_type": "execute_result"
    }
   ],
   "source": [
    "IQ_df = pd.read_csv(\"gpa_iq.csv\")\n",
    "IQ_df.head()"
   ]
  },
  {
   "cell_type": "markdown",
   "metadata": {},
   "source": [
    "**Question 3.1.**  Which type of hypothesis test you will use? Why? Then define the null and alternative hypothesis."
   ]
  },
  {
   "cell_type": "markdown",
   "metadata": {},
   "source": [
    "One sample, right sided, z-test\n",
    "\n",
    "$\\mu_c = 100$\n",
    "\n",
    "\n",
    "H0: $\\mu_{IQ} = \\mu_c$\n",
    "\n",
    "H1: $\\mu_{IQ} > \\mu_c$"
   ]
  },
  {
   "cell_type": "markdown",
   "metadata": {},
   "source": [
    "**Question 3.2.** Create an array named `IQ` which extract the IQ values from the dataframe. What is the mean and variance of `IQ` of this team of students?"
   ]
  },
  {
   "cell_type": "code",
   "execution_count": 7,
   "metadata": {},
   "outputs": [
    {
     "name": "stdout",
     "output_type": "stream",
     "text": [
      "IQ mean is: 108.92307692307692\n",
      "IQ std is: 13.086271168543274\n"
     ]
    }
   ],
   "source": [
    "IQ = IQ_df.iq.to_numpy()\n",
    "\n",
    "IQ_mean = np.mean(IQ)\n",
    "IQ_std = np.std(IQ)\n",
    "\n",
    "print('IQ mean is: '+str(IQ_mean))\n",
    "print('IQ std is: '+str(IQ_std))"
   ]
  },
  {
   "cell_type": "markdown",
   "metadata": {},
   "source": [
    "**Question 3.3.** Hypothesis test python implementation."
   ]
  },
  {
   "cell_type": "code",
   "execution_count": 8,
   "metadata": {},
   "outputs": [
    {
     "name": "stdout",
     "output_type": "stream",
     "text": [
      "p-values 1.093001671387625e-09\n",
      "we are rejecting null hypothesis\n"
     ]
    }
   ],
   "source": [
    "tset,pval = ztest(IQ, value = 100, alternative = \"larger\")\n",
    "print(\"p-values\",pval)\n",
    "if pval < 0.05:    # alpha value is 0.05 or 5%\n",
    "  print(\"we are rejecting null hypothesis\")\n",
    "else:\n",
    "  print(\"we are accepting null hypothesis\")"
   ]
  },
  {
   "cell_type": "markdown",
   "metadata": {},
   "source": [
    "**Question 3.4.** What is the conclusion? Reject the null hypothesis or not?"
   ]
  },
  {
   "cell_type": "markdown",
   "metadata": {},
   "source": [
    "Since our p-value is less than 0.05 we are rejecting the null hypothesis that the average IQ of this group of students is larger than 100."
   ]
  },
  {
   "cell_type": "markdown",
   "metadata": {},
   "source": [
    "## Problem 4: (15 points)\n",
    "\n",
    "Let’s suppose that a student wants to figure out if biology professors or English professors know more memes. The student writes a meme quiz and springs it on 14 unsuspecting biology professors and 18 unsuspecting English professors during office hours.\n",
    "\n",
    "The biology professors get the following scores:\n",
    "$$3,7,11,0,7,0,4,5,6,2,4,7,2,9$$\n",
    "and the English professors score:\n",
    "$$5,5,4,5,4,5,7,2,6,2,2,7,2,6,4,2,5,2$$\n",
    "We’ll assume that the population variance of the biology professor scores is $σ^2_1=3$\n",
    "and the population variance of the English professor scores is $σ_2^2=2$.\n",
    "\n",
    "First, we create the data for this problem."
   ]
  },
  {
   "cell_type": "code",
   "execution_count": 9,
   "metadata": {},
   "outputs": [],
   "source": [
    "biology = np.array([3,7,11,0,7,0,4,5,6,2,4,7,2,9])\n",
    "english = np.array([5,5,4,5,4,5,7,2,6,2,2,7,2,6,4,2,5,2])"
   ]
  },
  {
   "cell_type": "markdown",
   "metadata": {},
   "source": [
    "**Question 4.1.**  Which type of hypothesis test you will use? Why? Then define the null and alternative hypothesis."
   ]
  },
  {
   "cell_type": "markdown",
   "metadata": {},
   "source": [
    "Two sample, two sided, z-test\n",
    "\n",
    "H0: $\\mu_{bio} = \\mu_{engl}$\n",
    "\n",
    "H1: $\\mu_{bio} \\neq \\mu_{engl}$"
   ]
  },
  {
   "cell_type": "markdown",
   "metadata": {},
   "source": [
    "**Question 4.2.** What is the mean and standard deviation of each group?"
   ]
  },
  {
   "cell_type": "code",
   "execution_count": 10,
   "metadata": {},
   "outputs": [
    {
     "name": "stdout",
     "output_type": "stream",
     "text": [
      "Biology mean: 4.785714285714286\n",
      "English mean: 4.166666666666667\n",
      "Biology std: 3.1436687263807697\n",
      "English std: 1.740051084818425\n"
     ]
    }
   ],
   "source": [
    "bio_mean = np.mean(biology)\n",
    "engl_mean = np.mean(english)\n",
    "\n",
    "print('Biology mean: '+str(bio_mean))\n",
    "print('English mean: '+str(engl_mean))\n",
    "\n",
    "bio_std = np.std(biology)\n",
    "engl_std = np.std(english)\n",
    "\n",
    "print('Biology std: '+str(bio_std))\n",
    "print('English std: '+str(engl_std))"
   ]
  },
  {
   "cell_type": "markdown",
   "metadata": {},
   "source": [
    "**Question 4.3.** Hypothesis test python implementation."
   ]
  },
  {
   "cell_type": "code",
   "execution_count": 11,
   "metadata": {},
   "outputs": [
    {
     "name": "stdout",
     "output_type": "stream",
     "text": [
      "p-values 0.49324286113932003\n",
      "we are accepting null hypothesis\n"
     ]
    }
   ],
   "source": [
    "tset,pval = ztest(biology, english, alternative='two-sided')\n",
    "print(\"p-values\",pval)\n",
    "if pval < 0.05:    # alpha value is 0.05 or 5%\n",
    "    print(\"we are rejecting null hypothesis\")\n",
    "else:\n",
    "    print(\"we are accepting null hypothesis\")"
   ]
  },
  {
   "cell_type": "markdown",
   "metadata": {},
   "source": [
    "**Question 4.4.** What is the conclusion? Take $\\alpha=0.05$ as the significant level. Reject the null hypothesis or not?"
   ]
  },
  {
   "cell_type": "markdown",
   "metadata": {},
   "source": [
    "We are accepting the null hypothesis that Biology Teachers and English Teachers know the same ammount of memes"
   ]
  },
  {
   "cell_type": "markdown",
   "metadata": {},
   "source": [
    "# Problem 5: (15 points)\n",
    "\n",
    "Suppose we want to know whether or not the proportion of residents in a certain county who support a certain law is equal to 60%. To test this, we collect the following data on a random sample:\n",
    "\n",
    "* p0: hypothesized population proportion = 0.60\n",
    "* x: residents who support law: 64\n",
    "* n: sample size = 100"
   ]
  },
  {
   "cell_type": "markdown",
   "metadata": {},
   "source": [
    "**Question 5.1.**  Which type of hypothesis test you will use? Why? Then define the null and alternative hypothesis."
   ]
  },
  {
   "cell_type": "markdown",
   "metadata": {},
   "source": [
    "One sample proportion test\n",
    "\n",
    "H0: $p_s = 0.60$\n",
    "\n",
    "H1: $p_s \\neq 0.60$"
   ]
  },
  {
   "cell_type": "markdown",
   "metadata": {},
   "source": [
    "\\begin{equation}\n",
    "    z = \\frac{p_s - p_0}{\\sqrt{\\frac{p_s(1 - p_0)}{n}}}\n",
    "\\end{equation}"
   ]
  },
  {
   "cell_type": "markdown",
   "metadata": {},
   "source": [
    "**Question 5.2.** Hypothesis test python implementation. Calculate p value."
   ]
  },
  {
   "cell_type": "code",
   "execution_count": 12,
   "metadata": {},
   "outputs": [],
   "source": [
    "n = 100 # sample size\n",
    "x = 64 # residents who support the law\n",
    "p_0 = 0.60 # hypothesized population proportion\n",
    "p_s = x/n"
   ]
  },
  {
   "cell_type": "code",
   "execution_count": 13,
   "metadata": {},
   "outputs": [
    {
     "name": "stdout",
     "output_type": "stream",
     "text": [
      "Our p-value is: 0.4046567619272856\n"
     ]
    }
   ],
   "source": [
    "import statsmodels.api as sm\n",
    "\n",
    "t_stat, p_value = sm.stats.proportions_ztest(count=x, nobs=n, value= 0.60, alternative='two-sided')\n",
    "print('Our p-value is: '+str(p_value))"
   ]
  },
  {
   "cell_type": "markdown",
   "metadata": {},
   "source": [
    "**Question 5.3.** What's your conclusion? Take $\\alpha=0.05$ as the significant level."
   ]
  },
  {
   "cell_type": "markdown",
   "metadata": {},
   "source": [
    "As our p-value is above 0.05, we fail to reject the null hypothesis that the proportion of residents in a certain county who support a certain law is equal to 60%"
   ]
  },
  {
   "cell_type": "markdown",
   "metadata": {},
   "source": [
    "# Problem 6: (15 points)\n",
    "Let’s say you’re testing two flu drugs A and B. Drug A works on 41 people out of a sample of 195. Drug B works on 351 people in a sample of 605. Are the two drugs comparable? Use a 5% alpha level."
   ]
  },
  {
   "cell_type": "markdown",
   "metadata": {},
   "source": [
    "**Question 6.1.**  Which type of hypothesis test you will use? Why? Then define the null and alternative hypothesis."
   ]
  },
  {
   "cell_type": "markdown",
   "metadata": {},
   "source": [
    "Two sample proportion test\n",
    "\n",
    "H0: $p_{A} - p_{B} = 0$\n",
    "\n",
    "H1: $ p_{A} - p_{B} \\neq 0$"
   ]
  },
  {
   "cell_type": "markdown",
   "metadata": {},
   "source": [
    "**Question 6.2.** Hypothesis test python implementation. Calculate p value."
   ]
  },
  {
   "cell_type": "code",
   "execution_count": 14,
   "metadata": {},
   "outputs": [],
   "source": [
    "from statsmodels.stats.proportion import proportions_ztest"
   ]
  },
  {
   "cell_type": "code",
   "execution_count": 15,
   "metadata": {},
   "outputs": [
    {
     "name": "stdout",
     "output_type": "stream",
     "text": [
      "Our p-value is: 2.566230446480293e-19\n"
     ]
    }
   ],
   "source": [
    "sample_success_c, sample_size_c = (41, 195)\n",
    "sample_success_t, sample_size_t = (351, 605)\n",
    "\n",
    "\n",
    "counts = np.array([sample_success_c, sample_success_t])\n",
    "nobs = np.array([sample_size_c, sample_size_t])\n",
    "\n",
    "stat, p_value = proportions_ztest(count=counts, nobs= nobs,  alternative='two-sided')\n",
    "\n",
    "print('Our p-value is: '+str(p_value))"
   ]
  },
  {
   "cell_type": "markdown",
   "metadata": {},
   "source": [
    "**Question 6.3.** What's your conclusion? Take $\\alpha=0.05$ as the significant level."
   ]
  },
  {
   "cell_type": "markdown",
   "metadata": {},
   "source": [
    "As our p-value is below 0.05, we reject our null hypothesis that Drug A and Drug B are comparable."
   ]
  }
 ],
 "metadata": {
  "kernelspec": {
   "display_name": "Python 3",
   "language": "python",
   "name": "python3"
  },
  "language_info": {
   "codemirror_mode": {
    "name": "ipython",
    "version": 3
   },
   "file_extension": ".py",
   "mimetype": "text/x-python",
   "name": "python",
   "nbconvert_exporter": "python",
   "pygments_lexer": "ipython3",
   "version": "3.6.13"
  }
 },
 "nbformat": 4,
 "nbformat_minor": 4
}
