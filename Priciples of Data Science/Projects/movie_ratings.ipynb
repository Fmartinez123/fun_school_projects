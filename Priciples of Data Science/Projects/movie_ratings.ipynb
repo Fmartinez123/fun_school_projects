{
 "cells": [
  {
   "cell_type": "markdown",
   "id": "18d460af",
   "metadata": {},
   "source": [
    "# Movie Ratings\n",
    "\n",
    "The dataset `ratings.csv` contains ratings of certain movies from certain users. Netflix want to build a non personalized stereotype-based Recommenders for its users. Suppose all they have is the above data. <b>You do not need to know a recommender system </b>. But help them to derive basic data processing for future recommendation."
   ]
  },
  {
   "cell_type": "code",
   "execution_count": 4,
   "id": "73d144b9",
   "metadata": {},
   "outputs": [],
   "source": [
    "# importing packages we will be using throughout the exam\n",
    "import numpy as np\n",
    "import pandas as pd\n",
    "import matplotlib.pyplot as plt"
   ]
  },
  {
   "cell_type": "markdown",
   "id": "6fa5fe51",
   "metadata": {},
   "source": [
    "## Examining the Data Set\n",
    "\n",
    "### Reading the dataset and find the number of users and the number of movies."
   ]
  },
  {
   "cell_type": "code",
   "execution_count": 5,
   "id": "4b5caa1e",
   "metadata": {},
   "outputs": [
    {
     "data": {
      "text/html": [
       "<div>\n",
       "<style scoped>\n",
       "    .dataframe tbody tr th:only-of-type {\n",
       "        vertical-align: middle;\n",
       "    }\n",
       "\n",
       "    .dataframe tbody tr th {\n",
       "        vertical-align: top;\n",
       "    }\n",
       "\n",
       "    .dataframe thead th {\n",
       "        text-align: right;\n",
       "    }\n",
       "</style>\n",
       "<table border=\"1\" class=\"dataframe\">\n",
       "  <thead>\n",
       "    <tr style=\"text-align: right;\">\n",
       "      <th></th>\n",
       "      <th>User</th>\n",
       "      <th>Gender (1 =F, 0=M)</th>\n",
       "      <th>260: Star Wars: Episode IV - A New Hope (1977)</th>\n",
       "      <th>1210: Star Wars: Episode VI - Return of the Jedi (1983)</th>\n",
       "      <th>356: Forrest Gump (1994)</th>\n",
       "      <th>318: Shawshank Redemption, The (1994)</th>\n",
       "      <th>593: Silence of the Lambs, The (1991)</th>\n",
       "      <th>3578: Gladiator (2000)</th>\n",
       "      <th>1: Toy Story (1995)</th>\n",
       "      <th>2028: Saving Private Ryan (1998)</th>\n",
       "      <th>...</th>\n",
       "      <th>2396: Shakespeare in Love (1998)</th>\n",
       "      <th>2916: Total Recall (1990)</th>\n",
       "      <th>780: Independence Day (ID4) (1996)</th>\n",
       "      <th>541: Blade Runner (1982)</th>\n",
       "      <th>1265: Groundhog Day (1993)</th>\n",
       "      <th>2571: Matrix, The (1999)</th>\n",
       "      <th>527: Schindler's List (1993)</th>\n",
       "      <th>2762: Sixth Sense, The (1999)</th>\n",
       "      <th>1198: Raiders of the Lost Ark (1981)</th>\n",
       "      <th>34: Babe (1995)</th>\n",
       "    </tr>\n",
       "  </thead>\n",
       "  <tbody>\n",
       "    <tr>\n",
       "      <th>0</th>\n",
       "      <td>755</td>\n",
       "      <td>0</td>\n",
       "      <td>1.0</td>\n",
       "      <td>5.0</td>\n",
       "      <td>2.0</td>\n",
       "      <td>NaN</td>\n",
       "      <td>4.0</td>\n",
       "      <td>4.0</td>\n",
       "      <td>2.0</td>\n",
       "      <td>2.0</td>\n",
       "      <td>...</td>\n",
       "      <td>2.0</td>\n",
       "      <td>NaN</td>\n",
       "      <td>5.0</td>\n",
       "      <td>2.0</td>\n",
       "      <td>NaN</td>\n",
       "      <td>4.0</td>\n",
       "      <td>2.0</td>\n",
       "      <td>5.0</td>\n",
       "      <td>NaN</td>\n",
       "      <td>NaN</td>\n",
       "    </tr>\n",
       "    <tr>\n",
       "      <th>1</th>\n",
       "      <td>5277</td>\n",
       "      <td>0</td>\n",
       "      <td>5.0</td>\n",
       "      <td>3.0</td>\n",
       "      <td>NaN</td>\n",
       "      <td>2.0</td>\n",
       "      <td>4.0</td>\n",
       "      <td>2.0</td>\n",
       "      <td>1.0</td>\n",
       "      <td>NaN</td>\n",
       "      <td>...</td>\n",
       "      <td>3.0</td>\n",
       "      <td>2.0</td>\n",
       "      <td>2.0</td>\n",
       "      <td>NaN</td>\n",
       "      <td>2.0</td>\n",
       "      <td>NaN</td>\n",
       "      <td>5.0</td>\n",
       "      <td>1.0</td>\n",
       "      <td>3.0</td>\n",
       "      <td>NaN</td>\n",
       "    </tr>\n",
       "    <tr>\n",
       "      <th>2</th>\n",
       "      <td>1577</td>\n",
       "      <td>1</td>\n",
       "      <td>NaN</td>\n",
       "      <td>NaN</td>\n",
       "      <td>NaN</td>\n",
       "      <td>5.0</td>\n",
       "      <td>2.0</td>\n",
       "      <td>NaN</td>\n",
       "      <td>4.0</td>\n",
       "      <td>NaN</td>\n",
       "      <td>...</td>\n",
       "      <td>NaN</td>\n",
       "      <td>1.0</td>\n",
       "      <td>4.0</td>\n",
       "      <td>4.0</td>\n",
       "      <td>1.0</td>\n",
       "      <td>1.0</td>\n",
       "      <td>2.0</td>\n",
       "      <td>3.0</td>\n",
       "      <td>1.0</td>\n",
       "      <td>3.0</td>\n",
       "    </tr>\n",
       "    <tr>\n",
       "      <th>3</th>\n",
       "      <td>4388</td>\n",
       "      <td>0</td>\n",
       "      <td>NaN</td>\n",
       "      <td>3.0</td>\n",
       "      <td>NaN</td>\n",
       "      <td>NaN</td>\n",
       "      <td>NaN</td>\n",
       "      <td>1.0</td>\n",
       "      <td>2.0</td>\n",
       "      <td>3.0</td>\n",
       "      <td>...</td>\n",
       "      <td>NaN</td>\n",
       "      <td>4.0</td>\n",
       "      <td>1.0</td>\n",
       "      <td>3.0</td>\n",
       "      <td>5.0</td>\n",
       "      <td>NaN</td>\n",
       "      <td>5.0</td>\n",
       "      <td>1.0</td>\n",
       "      <td>1.0</td>\n",
       "      <td>2.0</td>\n",
       "    </tr>\n",
       "    <tr>\n",
       "      <th>4</th>\n",
       "      <td>1202</td>\n",
       "      <td>1</td>\n",
       "      <td>4.0</td>\n",
       "      <td>3.0</td>\n",
       "      <td>4.0</td>\n",
       "      <td>1.0</td>\n",
       "      <td>4.0</td>\n",
       "      <td>1.0</td>\n",
       "      <td>NaN</td>\n",
       "      <td>4.0</td>\n",
       "      <td>...</td>\n",
       "      <td>5.0</td>\n",
       "      <td>1.0</td>\n",
       "      <td>NaN</td>\n",
       "      <td>4.0</td>\n",
       "      <td>NaN</td>\n",
       "      <td>3.0</td>\n",
       "      <td>5.0</td>\n",
       "      <td>5.0</td>\n",
       "      <td>NaN</td>\n",
       "      <td>NaN</td>\n",
       "    </tr>\n",
       "  </tbody>\n",
       "</table>\n",
       "<p>5 rows × 22 columns</p>\n",
       "</div>"
      ],
      "text/plain": [
       "   User  Gender (1 =F, 0=M)  260: Star Wars: Episode IV - A New Hope (1977)  \\\n",
       "0   755                   0                                             1.0   \n",
       "1  5277                   0                                             5.0   \n",
       "2  1577                   1                                             NaN   \n",
       "3  4388                   0                                             NaN   \n",
       "4  1202                   1                                             4.0   \n",
       "\n",
       "   1210: Star Wars: Episode VI - Return of the Jedi (1983)  \\\n",
       "0                                                5.0         \n",
       "1                                                3.0         \n",
       "2                                                NaN         \n",
       "3                                                3.0         \n",
       "4                                                3.0         \n",
       "\n",
       "   356: Forrest Gump (1994)  318: Shawshank Redemption, The (1994)  \\\n",
       "0                       2.0                                    NaN   \n",
       "1                       NaN                                    2.0   \n",
       "2                       NaN                                    5.0   \n",
       "3                       NaN                                    NaN   \n",
       "4                       4.0                                    1.0   \n",
       "\n",
       "   593: Silence of the Lambs, The (1991)  3578: Gladiator (2000)  \\\n",
       "0                                    4.0                     4.0   \n",
       "1                                    4.0                     2.0   \n",
       "2                                    2.0                     NaN   \n",
       "3                                    NaN                     1.0   \n",
       "4                                    4.0                     1.0   \n",
       "\n",
       "   1: Toy Story (1995)  2028: Saving Private Ryan (1998)  ...  \\\n",
       "0                  2.0                               2.0  ...   \n",
       "1                  1.0                               NaN  ...   \n",
       "2                  4.0                               NaN  ...   \n",
       "3                  2.0                               3.0  ...   \n",
       "4                  NaN                               4.0  ...   \n",
       "\n",
       "   2396: Shakespeare in Love (1998)  2916: Total Recall (1990)  \\\n",
       "0                               2.0                        NaN   \n",
       "1                               3.0                        2.0   \n",
       "2                               NaN                        1.0   \n",
       "3                               NaN                        4.0   \n",
       "4                               5.0                        1.0   \n",
       "\n",
       "   780: Independence Day (ID4) (1996)  541: Blade Runner (1982)  \\\n",
       "0                                 5.0                       2.0   \n",
       "1                                 2.0                       NaN   \n",
       "2                                 4.0                       4.0   \n",
       "3                                 1.0                       3.0   \n",
       "4                                 NaN                       4.0   \n",
       "\n",
       "   1265: Groundhog Day (1993)  2571: Matrix, The (1999)  \\\n",
       "0                         NaN                       4.0   \n",
       "1                         2.0                       NaN   \n",
       "2                         1.0                       1.0   \n",
       "3                         5.0                       NaN   \n",
       "4                         NaN                       3.0   \n",
       "\n",
       "   527: Schindler's List (1993)  2762: Sixth Sense, The (1999)  \\\n",
       "0                           2.0                            5.0   \n",
       "1                           5.0                            1.0   \n",
       "2                           2.0                            3.0   \n",
       "3                           5.0                            1.0   \n",
       "4                           5.0                            5.0   \n",
       "\n",
       "   1198: Raiders of the Lost Ark (1981)  34: Babe (1995)  \n",
       "0                                   NaN              NaN  \n",
       "1                                   3.0              NaN  \n",
       "2                                   1.0              3.0  \n",
       "3                                   1.0              2.0  \n",
       "4                                   NaN              NaN  \n",
       "\n",
       "[5 rows x 22 columns]"
      ]
     },
     "execution_count": 5,
     "metadata": {},
     "output_type": "execute_result"
    }
   ],
   "source": [
    "# Reading in our ratings.csv file and showing what we have\n",
    "ratings = pd.read_csv('ratings.csv')\n",
    "ratings.head()"
   ]
  },
  {
   "cell_type": "code",
   "execution_count": 6,
   "id": "83f3be88",
   "metadata": {},
   "outputs": [
    {
     "name": "stdout",
     "output_type": "stream",
     "text": [
      "The total number of users are: 20\n",
      "The total number of movies are: 20\n"
     ]
    }
   ],
   "source": [
    "# Finding the number of users:\n",
    "# This is assuming that the 'User' column is not the total number of users in a group, \n",
    "# but instead are user ID numbers\n",
    "num_usr = len(ratings.User)\n",
    "print('The total number of users are: '+str(num_usr))\n",
    "\n",
    "\n",
    "# Finding the number of movies:\n",
    "# We are taking the column names of our 'ratings' data frame and only reading in the movie titles\n",
    "movies = ratings.columns[2:]\n",
    "print('The total number of movies are: '+ str(len(movies)))"
   ]
  },
  {
   "cell_type": "markdown",
   "id": "35a7839c",
   "metadata": {},
   "source": [
    "### Is there other information other than ratings?"
   ]
  },
  {
   "cell_type": "markdown",
   "id": "647fabe5",
   "metadata": {},
   "source": [
    "Information we have that are not movie ratings are the User ID number (column called 'User'), and the users gender, in the second (or [1] for indexing in python) column where  1 = Female, 0 = Male"
   ]
  },
  {
   "cell_type": "markdown",
   "id": "ea71a7b2",
   "metadata": {},
   "source": [
    "### Finding how many \"NA\" values are in the Dataset"
   ]
  },
  {
   "cell_type": "code",
   "execution_count": 9,
   "id": "05dcd028",
   "metadata": {},
   "outputs": [
    {
     "name": "stdout",
     "output_type": "stream",
     "text": [
      "The total number of NaN values are: 159\n"
     ]
    }
   ],
   "source": [
    "num_nan = 0\n",
    "\n",
    "# iterating over the length of our ratings data frame\n",
    "for i in range(len(ratings)):\n",
    "    \n",
    "    # assigning when a Nan value is true for each column of our data\n",
    "    true = np.isnan(ratings[ratings.columns[i+2]]) \n",
    "    \n",
    "    # adding up the total nan values per column\n",
    "    num_nan = num_nan + len(ratings[ratings.columns[i+2]][true]) \n",
    "    \n",
    "print('The total number of NaN values are: '+str(num_nan))"
   ]
  },
  {
   "cell_type": "markdown",
   "id": "2c5172d4",
   "metadata": {},
   "source": [
    "These Nan values are likely here due to the users not leaving a rating for a movie, or not watching a movie."
   ]
  },
  {
   "cell_type": "markdown",
   "id": "166755a2",
   "metadata": {},
   "source": [
    "### Renaming the second column"
   ]
  },
  {
   "cell_type": "code",
   "execution_count": 14,
   "id": "130b7523",
   "metadata": {
    "scrolled": true
   },
   "outputs": [
    {
     "data": {
      "text/plain": [
       "'Gender'"
      ]
     },
     "execution_count": 14,
     "metadata": {},
     "output_type": "execute_result"
    }
   ],
   "source": [
    "# reading in the ratings dataframe to ensure that we do not overwrite our \n",
    "# changes if we run this cell more than once.\n",
    "ratings = pd.read_csv('ratings.csv')\n",
    "\n",
    "# This renames the second column name to simply 'Gender'\n",
    "ratings = ratings.rename(columns={ratings.columns[1]:'Gender'})\n",
    "\n",
    "# This is a one line function that returns 'Male' if the gender is asigned as 0\n",
    "# and 'Female' if the gender is asigned as 1 in the newly named 'Gender' column\n",
    "ratings['Gender'] = ratings['Gender'].apply(lambda x : 'Male' if x == 0 else 'Female')\n",
    "\n",
    "# Showing the change\n",
    "ratings.columns[1]"
   ]
  },
  {
   "cell_type": "markdown",
   "id": "2e59d28f",
   "metadata": {},
   "source": [
    "### Removing the number that appears in front of movie Names"
   ]
  },
  {
   "cell_type": "code",
   "execution_count": 15,
   "id": "c1f90d36",
   "metadata": {},
   "outputs": [],
   "source": [
    "def text_after(full_text, pattern):\n",
    "    ''' Returns the text after the a desired pattern. This function removes everything\n",
    "        from before the pattern and up to the actual pattern itself. It has a built in check\n",
    "        that ensures that any string fed into the function that does NOT have the\n",
    "        desired pattern is returned without any altercations.\n",
    "    \n",
    "    full_text : String, name of a movie for our example\n",
    "    pattern : String, the part of the string that you want to remove, one may want to include\n",
    "              spacing ' ' as apart of the pattern as well for a better result.\n",
    "    '''\n",
    "    \n",
    "    # If there is no pattern in the string this returns the full text\n",
    "    if len(pattern.join(full_text.split(pattern)[1:])) == 0:\n",
    "        return(full_text)\n",
    "    \n",
    "    # This removes the text before the desired pattern\n",
    "    else:\n",
    "        return str(pattern.join(full_text.split(pattern)[1:]))"
   ]
  },
  {
   "cell_type": "code",
   "execution_count": 21,
   "id": "6819d962",
   "metadata": {},
   "outputs": [
    {
     "name": "stdout",
     "output_type": "stream",
     "text": [
      "Before- 260: Star Wars: Episode IV - A New Hope (1977)\n",
      "After- Star Wars: Episode IV - A New Hope (1977)\n"
     ]
    }
   ],
   "source": [
    "# Testing the function\n",
    "print('Before-',ratings.columns[2])\n",
    "      \n",
    "print('After-',text_after(ratings.columns[2],': '))"
   ]
  },
  {
   "cell_type": "code",
   "execution_count": 22,
   "id": "a15ab36b",
   "metadata": {},
   "outputs": [],
   "source": [
    "columns_renamed = []\n",
    "\n",
    "# A loop that replaces the names in all of the movie titles to remove the\n",
    "# Xnum at the begining of the movie\n",
    "\n",
    "for i in range(len(ratings.columns)):\n",
    "    # appending the renamed columns\n",
    "    columns_renamed.append(text_after(ratings.columns[i],': '))\n",
    "    # applying the rename to the df\n",
    "    ratings = ratings.rename(columns={ratings.columns[i]:columns_renamed[i]})"
   ]
  },
  {
   "cell_type": "code",
   "execution_count": 29,
   "id": "171f240a",
   "metadata": {},
   "outputs": [
    {
     "data": {
      "text/plain": [
       "array(['Star Wars: Episode IV - A New Hope (1977)',\n",
       "       'Star Wars: Episode VI - Return of the Jedi (1983)',\n",
       "       'Forrest Gump (1994)', 'Shawshank Redemption, The (1994)',\n",
       "       'Silence of the Lambs, The (1991)', 'Gladiator (2000)',\n",
       "       'Toy Story (1995)', 'Saving Private Ryan (1998)',\n",
       "       'Pulp Fiction (1994)', 'Stand by Me (1986)',\n",
       "       'Shakespeare in Love (1998)', 'Total Recall (1990)',\n",
       "       'Independence Day (ID4) (1996)', 'Blade Runner (1982)',\n",
       "       'Groundhog Day (1993)', 'Matrix, The (1999)',\n",
       "       \"Schindler's List (1993)\", 'Sixth Sense, The (1999)',\n",
       "       'Raiders of the Lost Ark (1981)', 'Babe (1995)'], dtype=object)"
      ]
     },
     "execution_count": 29,
     "metadata": {},
     "output_type": "execute_result"
    }
   ],
   "source": [
    "# Showing the changes\n",
    "ratings.columns[2:].to_numpy()"
   ]
  },
  {
   "cell_type": "markdown",
   "id": "0c71997a",
   "metadata": {},
   "source": [
    "## Movie Reccomendations\n",
    "\n",
    "Lets recommend the top 3 movies. Mention if there are any tie cases.\n",
    "\n",
    "Suppose we want to recommend the users the top 3 movies which has the <b>highest average ratings</b> and <b>rating count</b> (number of raters)\n",
    "\n",
    "### Displaying the top 3 movies, which has the highest average ratings by its raters along with their ratings.\n"
   ]
  },
  {
   "cell_type": "code",
   "execution_count": 30,
   "id": "8633977d",
   "metadata": {
    "scrolled": true
   },
   "outputs": [],
   "source": [
    "# We are summing up the total number of ratings per movie and dividing by the \n",
    "# total number of ratings for that movie\n",
    "\n",
    "# first we must separate the movie columns from the User and Gender columns\n",
    "movies = ratings[ratings.columns[2:]]\n",
    "\n",
    "rate_avg = []\n",
    "for i in range(len(movies.T)):\n",
    "    # defining our individual movie title as an array for easier use\n",
    "    title = movies.columns[i]\n",
    "    \n",
    "    # finding the total number of ratings cast per movie\n",
    "    len_true = np.logical_not(np.isnan(movies[title])) # ensuring we don't count Nan values\n",
    "    len_ratings = len(movies[title][len_true])\n",
    "    \n",
    "    # finding the average scores of our movies\n",
    "    total = movies[title].sum()\n",
    "    rate_avg.append(total/len_ratings)\n",
    "\n",
    "# converting our list to a numpy array for easier use\n",
    "rate_avg = np.array(rate_avg)"
   ]
  },
  {
   "cell_type": "code",
   "execution_count": 31,
   "id": "5ae024cc",
   "metadata": {},
   "outputs": [
    {
     "name": "stdout",
     "output_type": "stream",
     "text": [
      "The movie that had the highest average rating is: \n",
      "Shawshank Redemption, The (1994), with the average rating of 3.6\n",
      "\n",
      "The movie that came in second place is: \n",
      "Star Wars: Episode IV - A New Hope (1977), with the average rating of 3.27\n",
      "\n",
      "The movie that came in third place is: \n",
      "Blade Runner (1982), with the average rating of 3.22\n"
     ]
    }
   ],
   "source": [
    "# As we will be indexing the movies based on the top 3 highest scores, we only need \n",
    "# the top 3 scores and do not need any repeating values, so we will be using np.unique\n",
    "# along with np.sort to scale our unique rating averages from highest to lowest\n",
    "movie_avgs = -np.sort(np.unique(-rate_avg)) # ranking form highest to lowest (descending)\n",
    "\n",
    "# finding the movie rankings\n",
    "first = np.where(rate_avg==movie_avgs[0])\n",
    "second = np.where(rate_avg==movie_avgs[1])\n",
    "third = np.where(rate_avg==movie_avgs[2])\n",
    "\n",
    "# printing first place\n",
    "print('The movie that had the highest average rating is: ')\n",
    "print(movies.columns[first[0][0]] + ', with the average rating of '+ \n",
    "      str(round(movie_avgs[0],2)))\n",
    "\n",
    "# printing the second place\n",
    "print('\\nThe movie that came in second place is: ')\n",
    "print(movies.columns[second[0][0]] + ', with the average rating of '+ \n",
    "      str(round(movie_avgs[1],2)))\n",
    "\n",
    "# printing third place\n",
    "print('\\nThe movie that came in third place is: ')\n",
    "print(movies.columns[third[0][0]] + ', with the average rating of '+ \n",
    "      str(round(movie_avgs[2],2)))"
   ]
  },
  {
   "cell_type": "markdown",
   "id": "0f3d5637",
   "metadata": {},
   "source": [
    "### Displaying the top 3 movies, which has the highest rating count along with their rating count."
   ]
  },
  {
   "cell_type": "markdown",
   "id": "cabd06cd",
   "metadata": {},
   "source": [
    "We are just summing up the total number of ratings for each movie and displaying them in order"
   ]
  },
  {
   "cell_type": "code",
   "execution_count": 35,
   "id": "f9505a1b",
   "metadata": {},
   "outputs": [
    {
     "data": {
      "text/plain": [
       "49.0"
      ]
     },
     "execution_count": 35,
     "metadata": {},
     "output_type": "execute_result"
    }
   ],
   "source": [
    "movies[movies.columns[0]].sum()"
   ]
  },
  {
   "cell_type": "code",
   "execution_count": 36,
   "id": "b1ac9daf",
   "metadata": {},
   "outputs": [],
   "source": [
    "# We will sum up each of the ratings for the movie titles \n",
    "# and store into the array below\n",
    "rate_count = []\n",
    "\n",
    "for i in range(len(movies.T)):\n",
    "    # defining our individual movie title as an array for easier use\n",
    "    title = movies.columns[i]\n",
    "    \n",
    "    rate_count.append(np.sum(movies[title]))\n",
    "    \n",
    "# converting our list to a numpy array for easier use\n",
    "rate_count = np.array(rate_count)"
   ]
  },
  {
   "cell_type": "code",
   "execution_count": 37,
   "id": "75d759f1",
   "metadata": {},
   "outputs": [
    {
     "name": "stdout",
     "output_type": "stream",
     "text": [
      "The highest rated movies tied for first place are: \n",
      "Star Wars: Episode IV - A New Hope (1977) and Silence of the Lambs, The (1991),\n",
      "with the cumulative rating of 49\n",
      "\n",
      "The movie that came in second place is: \n",
      "Toy Story (1995), with the cumulative rating of 48\n",
      "\n",
      "The movie that came in third place is: \n",
      "Star Wars: Episode VI - Return of the Jedi (1983), with the cumulative rating of 42\n"
     ]
    }
   ],
   "source": [
    "# Like we did for part a, we will be indexing the movies based on the top 3 highest \n",
    "# scores, as only need the top 3 scores and do not need repeating values, we will \n",
    "# be using np.unique along with np.sort to scale our unique ratings counts from \n",
    "# highest to lowest\n",
    "movie_counts = -np.sort(np.unique(-rate_count)) # descending ranking\n",
    "\n",
    "# finding the movie rankings\n",
    "first = np.where(rate_count==movie_counts[0])\n",
    "second = np.where(rate_count==movie_counts[1])\n",
    "third = np.where(rate_count==movie_counts[2])\n",
    "\n",
    "# printing first place\n",
    "print('The highest rated movies tied for first place are: ')\n",
    "print(movies.columns[first[0][0]]+' and '+movies.columns[first[0][1]]+ \n",
    "    ',\\nwith the cumulative rating of '+ str(int(movie_counts[0])))\n",
    "\n",
    "# printing the second place\n",
    "print('\\nThe movie that came in second place is: ')\n",
    "print(movies.columns[second[0][0]] + ', with the cumulative rating of '+ \n",
    "      str(int(movie_counts[1])))\n",
    "\n",
    "# printing third place\n",
    "print('\\nThe movie that came in third place is: ')\n",
    "print(movies.columns[third[0][0]] + ', with the cumulative rating of '+ \n",
    "      str(int(movie_counts[2])))"
   ]
  },
  {
   "cell_type": "markdown",
   "id": "ff3c0b4c",
   "metadata": {},
   "source": [
    "### Displaying the top 3 movies which has the highest percentages of 4+ ratings along with their percentages."
   ]
  },
  {
   "cell_type": "markdown",
   "id": "618a542c",
   "metadata": {},
   "source": [
    "We are finding the total number of 4+ ratings for each movie, and dividing that by the total number of ratings that movie recieved to get the highest percentage rating  of 4+ ratings"
   ]
  },
  {
   "cell_type": "code",
   "execution_count": 38,
   "id": "ace28a70",
   "metadata": {},
   "outputs": [],
   "source": [
    "four_plus_percentage = []\n",
    "\n",
    "for i in range(len(movies.T)):\n",
    "    # defining our individual movie title as an array for easier use\n",
    "    title = movies.columns[i]\n",
    "    \n",
    "    # our appendexing array for movies that rank 4 and above\n",
    "    true = movies[title] >= 4\n",
    "    \n",
    "    # movies that pass the condition of 4+ ratings\n",
    "    four_plus = np.array(movies[title][true])\n",
    "    \n",
    "    # finding the total number of ratings cast per movie\n",
    "    len_true = np.logical_not(np.isnan(movies[title])) # ensuring we don't count Nan values\n",
    "    len_ratings = len(movies[title][len_true])\n",
    "    \n",
    "    # finding the percentage rating of 4+ ratings\n",
    "    four_plus_percentage.append((len(four_plus)/len_ratings)*100)\n",
    "    \n",
    "four_plus_percentage=np.array(four_plus_percentage)"
   ]
  },
  {
   "cell_type": "code",
   "execution_count": 39,
   "id": "3e5cfa81",
   "metadata": {},
   "outputs": [
    {
     "name": "stdout",
     "output_type": "stream",
     "text": [
      "The movie that had highest percentage of 4+ scores is: \n",
      "Shawshank Redemption, The (1994), with the 4+ rating score of 70.0%\n",
      "\n",
      "The movie that came in second place is: \n",
      "Star Wars: Episode IV - A New Hope (1977), with the 4+ rating score of 53.33%\n",
      "\n",
      "The movie that came in third place is: \n",
      "Gladiator (2000), with the 4+ rating score of 50.0%\n"
     ]
    }
   ],
   "source": [
    "# Using the same process outlined in a and b\n",
    "movie_percentage = -np.sort(np.unique(-four_plus_percentage)) # descending ranking\n",
    "\n",
    "# finding the movie rankings\n",
    "first = np.where(four_plus_percentage==movie_percentage[0])\n",
    "second = np.where(four_plus_percentage==movie_percentage[1])\n",
    "third = np.where(four_plus_percentage==movie_percentage[2])\n",
    "\n",
    "# printing first place\n",
    "print('The movie that had highest percentage of 4+ scores is: ')\n",
    "print(movies.columns[first[0][0]] + ', with the 4+ rating score of '+ \n",
    "      str(round(movie_percentage[0],2))+ '%')\n",
    "\n",
    "# printing the second place\n",
    "print('\\nThe movie that came in second place is: ')\n",
    "print(movies.columns[second[0][0]] + ', with the 4+ rating score of '+ \n",
    "      str(round(movie_percentage[1],2))+ '%')\n",
    "\n",
    "# printing third place\n",
    "print('\\nThe movie that came in third place is: ')\n",
    "print(movies.columns[third[0][0]] + ', with the 4+ rating score of '+ \n",
    "      str(round(movie_percentage[2],2))+ '%')"
   ]
  },
  {
   "cell_type": "markdown",
   "id": "24466b24",
   "metadata": {},
   "source": [
    "## Examining the different rating systems\n",
    "\n",
    "### Creating a dataframe with first column as movies and second column is the average ratings, rating counts and percentage of 4+ ratings."
   ]
  },
  {
   "cell_type": "code",
   "execution_count": 40,
   "id": "0bd829be",
   "metadata": {},
   "outputs": [
    {
     "data": {
      "text/html": [
       "<div>\n",
       "<style scoped>\n",
       "    .dataframe tbody tr th:only-of-type {\n",
       "        vertical-align: middle;\n",
       "    }\n",
       "\n",
       "    .dataframe tbody tr th {\n",
       "        vertical-align: top;\n",
       "    }\n",
       "\n",
       "    .dataframe thead th {\n",
       "        text-align: right;\n",
       "    }\n",
       "</style>\n",
       "<table border=\"1\" class=\"dataframe\">\n",
       "  <thead>\n",
       "    <tr style=\"text-align: right;\">\n",
       "      <th></th>\n",
       "      <th>Movies</th>\n",
       "      <th>Avg_ratings</th>\n",
       "      <th>Rating_counts</th>\n",
       "      <th>% of 4+ ratings</th>\n",
       "    </tr>\n",
       "  </thead>\n",
       "  <tbody>\n",
       "    <tr>\n",
       "      <th>0</th>\n",
       "      <td>Star Wars: Episode IV - A New Hope (1977)</td>\n",
       "      <td>3.266667</td>\n",
       "      <td>49.0</td>\n",
       "      <td>53.333333</td>\n",
       "    </tr>\n",
       "    <tr>\n",
       "      <th>1</th>\n",
       "      <td>Star Wars: Episode VI - Return of the Jedi (1983)</td>\n",
       "      <td>3.000000</td>\n",
       "      <td>42.0</td>\n",
       "      <td>35.714286</td>\n",
       "    </tr>\n",
       "    <tr>\n",
       "      <th>2</th>\n",
       "      <td>Forrest Gump (1994)</td>\n",
       "      <td>2.700000</td>\n",
       "      <td>27.0</td>\n",
       "      <td>30.000000</td>\n",
       "    </tr>\n",
       "    <tr>\n",
       "      <th>3</th>\n",
       "      <td>Shawshank Redemption, The (1994)</td>\n",
       "      <td>3.600000</td>\n",
       "      <td>36.0</td>\n",
       "      <td>70.000000</td>\n",
       "    </tr>\n",
       "    <tr>\n",
       "      <th>4</th>\n",
       "      <td>Silence of the Lambs, The (1991)</td>\n",
       "      <td>3.062500</td>\n",
       "      <td>49.0</td>\n",
       "      <td>43.750000</td>\n",
       "    </tr>\n",
       "  </tbody>\n",
       "</table>\n",
       "</div>"
      ],
      "text/plain": [
       "                                              Movies  Avg_ratings  \\\n",
       "0          Star Wars: Episode IV - A New Hope (1977)     3.266667   \n",
       "1  Star Wars: Episode VI - Return of the Jedi (1983)     3.000000   \n",
       "2                                Forrest Gump (1994)     2.700000   \n",
       "3                   Shawshank Redemption, The (1994)     3.600000   \n",
       "4                   Silence of the Lambs, The (1991)     3.062500   \n",
       "\n",
       "   Rating_counts  % of 4+ ratings  \n",
       "0           49.0        53.333333  \n",
       "1           42.0        35.714286  \n",
       "2           27.0        30.000000  \n",
       "3           36.0        70.000000  \n",
       "4           49.0        43.750000  "
      ]
     },
     "execution_count": 40,
     "metadata": {},
     "output_type": "execute_result"
    }
   ],
   "source": [
    "# Creating the dataframe\n",
    "data = {'Movies': movies.columns, 'Avg_ratings': rate_avg, \n",
    "        'Rating_counts': rate_count, '% of 4+ ratings':four_plus_percentage}\n",
    "\n",
    "movie_scores = pd.DataFrame(data)\n",
    "\n",
    "# Displaying the first 5 rows \n",
    "movie_scores.head()"
   ]
  },
  {
   "cell_type": "markdown",
   "id": "99221463",
   "metadata": {},
   "source": [
    "#### Avg_ratings:\n",
    "Average ratings describes the average score of a movie amongst those viewers who have watched and rated it. This is more of an indicator on the overall enjoyment of the movie.\n",
    "\n",
    "#### Rating_counts:\n",
    "Rating counts describes the cumulative score a movie has recieved, it could be understood that more \"popular\" movies would top this list. More specifically, popular movies with a <i>decent</i> enough rating could top this list.\n",
    "\n",
    "#### % of 4+ ratings\n",
    "Percent of 4+ ratings describes the percentage of viewers who have watched a movie and gave it a score of 4 or above. This is more of a determiner on how critically acclaimed a film is.\n",
    "\n",
    "#### Recomendation\n",
    "We would reccomend movies with a high <b>Average Rating</b> and a strong <b>Percent of 4+ Ratings</b> for new viewers. This is due to these movies likely being viewed as more entertainable and critically acclaimed, which could result in more engagement with the users. "
   ]
  },
  {
   "cell_type": "markdown",
   "id": "ae440ea9",
   "metadata": {},
   "source": [
    "## Ratings between genders\n",
    "\n",
    "### Separating ratings between genders"
   ]
  },
  {
   "cell_type": "code",
   "execution_count": 41,
   "id": "8e23c9e1",
   "metadata": {},
   "outputs": [],
   "source": [
    "# We will begin by separating male and female users.\n",
    "\n",
    "# creating our indexing arrays for Male and Female users\n",
    "male_true = ratings['Gender']=='Male'\n",
    "female_true = ratings['Gender']=='Female'\n",
    "\n",
    "# Defining our own dataframes for Male and Female users\n",
    "male = ratings[male_true]\n",
    "female = ratings[female_true]"
   ]
  },
  {
   "cell_type": "code",
   "execution_count": 42,
   "id": "dc616255",
   "metadata": {},
   "outputs": [],
   "source": [
    "# Now we must determine how male and female users rated each movie. We will be using the same\n",
    "# process as laid out in Question 2a\n",
    "\n",
    "# first we must separate the movie columns from the User and Gender columns for our\n",
    "# male directory\n",
    "male_movies = male[male.columns[2:]]\n",
    "\n",
    "male_avg = []\n",
    "for i in range(len(male_movies.T)):\n",
    "    # defining our individual movie title as an array for easier use\n",
    "    title = male_movies.columns[i]\n",
    "    \n",
    "    # finding the total number of ratings cast per movie\n",
    "    len_true = np.logical_not(np.isnan(male_movies[title])) # ensuring we don't count Nan values\n",
    "    len_ratings = len(male_movies[title][len_true])\n",
    "    \n",
    "    # finding the average scores of our movies\n",
    "    total = male_movies[title].sum()\n",
    "    male_avg.append(total/len_ratings)\n",
    "\n",
    "# converting our list to a numpy array for easier use\n",
    "male_avg = np.array(male_avg)"
   ]
  },
  {
   "cell_type": "code",
   "execution_count": 43,
   "id": "d57d5cd6",
   "metadata": {},
   "outputs": [],
   "source": [
    "# Now doing the same for our female directory\n",
    "\n",
    "# first we must separate the movie columns from the User and Gender columns for our\n",
    "# female directory\n",
    "female_movies = female[female.columns[2:]]\n",
    "\n",
    "female_avg = []\n",
    "for i in range(len(female_movies.T)):\n",
    "    # defining our individual movie title as an array for easier use\n",
    "    title = female_movies.columns[i]\n",
    "    \n",
    "    # finding the total number of ratings cast per movie\n",
    "    len_true = np.logical_not(np.isnan(female_movies[title])) # ensuring we don't count Nan values\n",
    "    len_ratings = len(female_movies[title][len_true])\n",
    "    \n",
    "    # finding the average scores of our movies\n",
    "    total = female_movies[title].sum()\n",
    "    female_avg.append(total/len_ratings)\n",
    "\n",
    "# converting our list to a numpy array for easier use\n",
    "female_avg = np.array(female_avg)"
   ]
  },
  {
   "cell_type": "code",
   "execution_count": 44,
   "id": "0e6dd660",
   "metadata": {},
   "outputs": [
    {
     "data": {
      "text/html": [
       "<div>\n",
       "<style scoped>\n",
       "    .dataframe tbody tr th:only-of-type {\n",
       "        vertical-align: middle;\n",
       "    }\n",
       "\n",
       "    .dataframe tbody tr th {\n",
       "        vertical-align: top;\n",
       "    }\n",
       "\n",
       "    .dataframe thead th {\n",
       "        text-align: right;\n",
       "    }\n",
       "</style>\n",
       "<table border=\"1\" class=\"dataframe\">\n",
       "  <thead>\n",
       "    <tr style=\"text-align: right;\">\n",
       "      <th></th>\n",
       "      <th>Movies</th>\n",
       "      <th>Avg_male_ratings</th>\n",
       "      <th>Avg_female_ratings</th>\n",
       "    </tr>\n",
       "  </thead>\n",
       "  <tbody>\n",
       "    <tr>\n",
       "      <th>0</th>\n",
       "      <td>Star Wars: Episode IV - A New Hope (1977)</td>\n",
       "      <td>3.125000</td>\n",
       "      <td>3.428571</td>\n",
       "    </tr>\n",
       "    <tr>\n",
       "      <th>1</th>\n",
       "      <td>Star Wars: Episode VI - Return of the Jedi (1983)</td>\n",
       "      <td>3.000000</td>\n",
       "      <td>3.000000</td>\n",
       "    </tr>\n",
       "    <tr>\n",
       "      <th>2</th>\n",
       "      <td>Forrest Gump (1994)</td>\n",
       "      <td>2.250000</td>\n",
       "      <td>3.000000</td>\n",
       "    </tr>\n",
       "    <tr>\n",
       "      <th>3</th>\n",
       "      <td>Shawshank Redemption, The (1994)</td>\n",
       "      <td>3.400000</td>\n",
       "      <td>3.800000</td>\n",
       "    </tr>\n",
       "    <tr>\n",
       "      <th>4</th>\n",
       "      <td>Silence of the Lambs, The (1991)</td>\n",
       "      <td>3.333333</td>\n",
       "      <td>2.714286</td>\n",
       "    </tr>\n",
       "  </tbody>\n",
       "</table>\n",
       "</div>"
      ],
      "text/plain": [
       "                                              Movies  Avg_male_ratings  \\\n",
       "0          Star Wars: Episode IV - A New Hope (1977)          3.125000   \n",
       "1  Star Wars: Episode VI - Return of the Jedi (1983)          3.000000   \n",
       "2                                Forrest Gump (1994)          2.250000   \n",
       "3                   Shawshank Redemption, The (1994)          3.400000   \n",
       "4                   Silence of the Lambs, The (1991)          3.333333   \n",
       "\n",
       "   Avg_female_ratings  \n",
       "0            3.428571  \n",
       "1            3.000000  \n",
       "2            3.000000  \n",
       "3            3.800000  \n",
       "4            2.714286  "
      ]
     },
     "execution_count": 44,
     "metadata": {},
     "output_type": "execute_result"
    }
   ],
   "source": [
    "# Now we can create our dataframe\n",
    "\n",
    "data = {'Movies': movies.columns, 'Avg_male_ratings': male_avg, 'Avg_female_ratings': female_avg}\n",
    "\n",
    "gender_ratings = pd.DataFrame(data)\n",
    "\n",
    "# Displaying the first 5 rows \n",
    "gender_ratings.head()"
   ]
  },
  {
   "cell_type": "markdown",
   "id": "d3cb7257",
   "metadata": {},
   "source": [
    "### Finding the difference in the mean ratings between gender for each movies"
   ]
  },
  {
   "cell_type": "code",
   "execution_count": 47,
   "id": "0100bbb7",
   "metadata": {},
   "outputs": [
    {
     "data": {
      "text/plain": [
       "array([0.30357143, 0.        , 0.75      , 0.4       , 0.61904762,\n",
       "       0.16666667, 1.27142857, 0.39285714, 1.375     , 0.57142857,\n",
       "       2.10714286, 0.48571429, 0.19047619, 0.5       , 0.66666667,\n",
       "       0.74285714, 1.        , 0.33333333, 1.66666667, 1.42857143])"
      ]
     },
     "execution_count": 47,
     "metadata": {},
     "output_type": "execute_result"
    }
   ],
   "source": [
    "# Calculating the ratings difference\n",
    "rating_diff = np.array(np.abs(gender_ratings.Avg_male_ratings - gender_ratings.Avg_female_ratings))\n",
    "\n",
    "# Showing the results\n",
    "rating_diff"
   ]
  },
  {
   "cell_type": "markdown",
   "id": "31d36c75",
   "metadata": {},
   "source": [
    "### Displaying how each gender rates graphically"
   ]
  },
  {
   "cell_type": "code",
   "execution_count": 49,
   "id": "c04f92c1",
   "metadata": {},
   "outputs": [
    {
     "data": {
      "image/png": "[encoded data removed]",
      "text/plain": [
       "<Figure size 720x864 with 2 Axes>"
      ]
     },
     "metadata": {
      "needs_background": "light"
     },
     "output_type": "display_data"
    }
   ],
   "source": [
    "# Ensuring our Movie Titles are evenly spaced\n",
    "ticks = np.arange(0,len(gender_ratings))\n",
    "\n",
    "plt.figure(figsize=[10,12])\n",
    "plt.tight_layout()\n",
    "\n",
    "# Plotting the Male Average Scores\n",
    "plt.subplot(221)\n",
    "plt.scatter(gender_ratings.Avg_male_ratings,ticks,c='blue', label='Male Average Score')\n",
    "plt.grid()\n",
    "plt.minorticks_on()\n",
    "plt.yticks(ticks=ticks,labels=movies.columns) # Movie titles on y-axis\n",
    "plt.xlabel('Score')\n",
    "plt.xticks(ticks=np.arange(1,5.5,.5))\n",
    "plt.gca().invert_yaxis()\n",
    "plt.title('Male Average Scores')\n",
    "\n",
    "# Plotting the Female Average Scores\n",
    "plt.subplot(222)\n",
    "plt.scatter(gender_ratings.Avg_female_ratings,ticks,c='red', label='Female Average Score')\n",
    "plt.grid()\n",
    "plt.minorticks_on()\n",
    "plt.xlabel('Score')\n",
    "plt.xticks(ticks=np.arange(1,5.5,.5))\n",
    "plt.yticks(ticks=ticks,labels=[])\n",
    "plt.gca().invert_yaxis()\n",
    "plt.title('Female Average Scores')\n",
    "\n",
    "plt.show()"
   ]
  },
  {
   "cell_type": "markdown",
   "id": "bb6e69a7",
   "metadata": {},
   "source": [
    "### Displaying the difference between genders graphicallly"
   ]
  },
  {
   "cell_type": "code",
   "execution_count": 50,
   "id": "aaf74ca7",
   "metadata": {},
   "outputs": [
    {
     "data": {
      "image/png": "[encoded data removed]",
      "text/plain": [
       "<Figure size 576x432 with 1 Axes>"
      ]
     },
     "metadata": {
      "needs_background": "light"
     },
     "output_type": "display_data"
    }
   ],
   "source": [
    "plt.figure(figsize=[8,6])\n",
    "plt.scatter(rating_diff,ticks,c='green', label='Male Average Score')\n",
    "plt.grid()\n",
    "plt.minorticks_on()\n",
    "plt.yticks(ticks=ticks,labels=movies.columns)\n",
    "plt.xticks(ticks=np.arange(-3,3.5,.5))\n",
    "plt.xlabel('Score difference')\n",
    "plt.title('Difference between movie ratings from Males vs. Females')\n",
    "plt.show()"
   ]
  },
  {
   "cell_type": "markdown",
   "id": "53de0652",
   "metadata": {},
   "source": [
    "It appears that Males seem to enjoy action and suspense movies more than females, while Females seem to enjoy romantic and wholesome movies more than males. While some of the more popular movies like Start Wars, Forrest Gump, and Independence Day have a very little scoring difference between genders."
   ]
  },
  {
   "cell_type": "markdown",
   "id": "56665919",
   "metadata": {},
   "source": [
    "### Displaying the top 3 movies with highest rating difference between genders."
   ]
  },
  {
   "cell_type": "markdown",
   "id": "67628d37",
   "metadata": {},
   "source": [
    "As we are rating the differences <b>between genders</b> in this problem and not just from males vs females, we will be taking the absolute value of the difference to make this selection."
   ]
  },
  {
   "cell_type": "code",
   "execution_count": 51,
   "id": "55f04269",
   "metadata": {},
   "outputs": [
    {
     "name": "stdout",
     "output_type": "stream",
     "text": [
      "The movie that had the highest rating difference is: \n",
      "Shakespeare in Love (1998), with a rating difference of 2.11\n",
      "\n",
      "The movie that had the second highest rating difference is: \n",
      "Raiders of the Lost Ark (1981), with a rating difference of 1.67\n",
      "\n",
      "The movie that had the third highest rating difference is: \n",
      "Babe (1995), with a rating difference of 1.43\n"
     ]
    }
   ],
   "source": [
    "rating_diff = np.array(np.abs(gender_ratings.Avg_male_ratings - gender_ratings.Avg_female_ratings))\n",
    "\n",
    "# ranking the difference in descending order\n",
    "rating_diff_descend = -np.sort(np.unique(-rating_diff))\n",
    "\n",
    "# finding the top 3 difference ratings\n",
    "top1 = np.where(rating_diff==rating_diff_descend[0])\n",
    "top2 = np.where(rating_diff==rating_diff_descend[1])\n",
    "top3 = np.where(rating_diff==rating_diff_descend[2])\n",
    "\n",
    "# printing movie with the largest differce\n",
    "print('The movie that had the highest rating difference is: ')\n",
    "print(movies.columns[top1][0] + ', with a rating difference of '+ \n",
    "      str(round(rating_diff_descend[0],2)))\n",
    "\n",
    "# printing the second place\n",
    "print('\\nThe movie that had the second highest rating difference is: ')\n",
    "print(movies.columns[top2][0] + ', with a rating difference of '+ \n",
    "      str(round(rating_diff_descend[1],2)))\n",
    "\n",
    "# printing third place\n",
    "print('\\nThe movie that had the third highest rating difference is: ')\n",
    "print(movies.columns[top3][0] + ', with a rating difference of '+ \n",
    "      str(round(rating_diff_descend[2],2)))"
   ]
  },
  {
   "cell_type": "markdown",
   "id": "c66fd9a1",
   "metadata": {},
   "source": [
    "### Display the top 3 movies with lowest rating difference between genders."
   ]
  },
  {
   "cell_type": "markdown",
   "id": "e1820132",
   "metadata": {},
   "source": [
    "Just as explained in part c), since we are rating the differences <b>between genders</b> in this problem and not just from males vs females, we will be taking the absolute value of the difference to make this selection."
   ]
  },
  {
   "cell_type": "code",
   "execution_count": 52,
   "id": "169945f3",
   "metadata": {},
   "outputs": [
    {
     "name": "stdout",
     "output_type": "stream",
     "text": [
      "The movie that had the lowest rating difference is: \n",
      "Star Wars: Episode VI - Return of the Jedi (1983), with a rating difference of 0.0\n",
      "\n",
      "The movie that had the second lowest rating difference is: \n",
      "Gladiator (2000), with a rating difference of 0.17\n",
      "\n",
      "The movie that had the third lowest rating difference is: \n",
      "Independence Day (ID4) (1996), with a rating difference of 0.19\n"
     ]
    }
   ],
   "source": [
    "rating_diff = np.array(np.abs(gender_ratings.Avg_male_ratings - gender_ratings.Avg_female_ratings))\n",
    "\n",
    "# ranking the difference in ascending order\n",
    "rating_diff_ascend = np.sort(np.unique(rating_diff))\n",
    "\n",
    "# finding the bottom 3 difference ratings\n",
    "bot1 = np.where(rating_diff==rating_diff_ascend[0])\n",
    "bot2 = np.where(rating_diff==rating_diff_ascend[1])\n",
    "bot3 = np.where(rating_diff==rating_diff_ascend[2])\n",
    "\n",
    "# printing movie with the largest differce\n",
    "print('The movie that had the lowest rating difference is: ')\n",
    "print(movies.columns[bot1][0] + ', with a rating difference of '+ \n",
    "      str(round(rating_diff_ascend[0],2)))\n",
    "\n",
    "# printing the second place\n",
    "print('\\nThe movie that had the second lowest rating difference is: ')\n",
    "print(movies.columns[bot2][0] + ', with a rating difference of '+ \n",
    "      str(round(rating_diff_ascend[1],2)))\n",
    "\n",
    "# printing third place\n",
    "print('\\nThe movie that had the third lowest rating difference is: ')\n",
    "print(movies.columns[bot3][0] + ', with a rating difference of '+ \n",
    "      str(round(rating_diff_ascend[2],2)))"
   ]
  },
  {
   "cell_type": "markdown",
   "id": "8c63195f",
   "metadata": {},
   "source": [
    "### Finding the % of rating 4+ separately for males and females. And display the top 3 movies with highest difference between genders."
   ]
  },
  {
   "cell_type": "code",
   "execution_count": 53,
   "id": "5222f0cd",
   "metadata": {},
   "outputs": [],
   "source": [
    "# Using the same process as outlined in Question 2c\n",
    "\n",
    "male_four_plus_percentage = []\n",
    "\n",
    "for i in range(len(male_movies.T)):\n",
    "    # defining our individual movie title as an array for easier use\n",
    "    title = male_movies.columns[i]\n",
    "    \n",
    "    # our appendexing array for movies that rank 4 and above\n",
    "    true = male_movies[title] >= 4\n",
    "    \n",
    "    # movies that pass the condition of 4+ ratings\n",
    "    four_plus = np.array(male_movies[title][true])\n",
    "    \n",
    "    # finding the total number of ratings cast per movie\n",
    "    len_true = np.logical_not(np.isnan(male_movies[title])) # ensuring we don't count Nan values\n",
    "    len_ratings = len(male_movies[title][len_true])\n",
    "    \n",
    "    # finding the percentage rating of 4+ ratings\n",
    "    male_four_plus_percentage.append((len(four_plus)/len_ratings)*100)\n",
    "    \n",
    "male_four_plus_percentage=np.array(male_four_plus_percentage)"
   ]
  },
  {
   "cell_type": "code",
   "execution_count": 54,
   "id": "276c71c1",
   "metadata": {},
   "outputs": [
    {
     "data": {
      "text/plain": [
       "array([50.        , 25.        ,  0.        , 60.        , 55.55555556,\n",
       "       50.        , 20.        , 28.57142857, 25.        , 25.        ,\n",
       "        0.        , 20.        , 28.57142857, 20.        , 50.        ,\n",
       "       57.14285714, 50.        , 33.33333333, 50.        ,  0.        ])"
      ]
     },
     "execution_count": 54,
     "metadata": {},
     "output_type": "execute_result"
    }
   ],
   "source": [
    "# Showing our results for male % 4+ ratings\n",
    "male_four_plus_percentage"
   ]
  },
  {
   "cell_type": "code",
   "execution_count": 55,
   "id": "84158689",
   "metadata": {},
   "outputs": [],
   "source": [
    "# Now doing the same process for females while again using the same process as outlined in Question 2c\n",
    "\n",
    "female_four_plus_percentage = []\n",
    "\n",
    "for i in range(len(female_movies.T)):\n",
    "    # defining our individual movie title as an array for easier use\n",
    "    title = female_movies.columns[i]\n",
    "    \n",
    "    # our appendexing array for movies that rank 4 and above\n",
    "    true = female_movies[title] >= 4\n",
    "    \n",
    "    # movies that pass the condition of 4+ ratings\n",
    "    four_plus = np.array(female_movies[title][true])\n",
    "    \n",
    "    # finding the total number of ratings cast per movie\n",
    "    len_true = np.logical_not(np.isnan(female_movies[title])) # ensuring we don't count Nan values\n",
    "    len_ratings = len(female_movies[title][len_true])\n",
    "    \n",
    "    # finding the percentage rating of 4+ ratings\n",
    "    female_four_plus_percentage.append((len(four_plus)/len_ratings)*100)\n",
    "    \n",
    "female_four_plus_percentage=np.array(female_four_plus_percentage)"
   ]
  },
  {
   "cell_type": "code",
   "execution_count": 56,
   "id": "86640d62",
   "metadata": {},
   "outputs": [
    {
     "data": {
      "text/plain": [
       "array([57.14285714, 50.        , 50.        , 80.        , 28.57142857,\n",
       "       50.        , 57.14285714, 50.        , 66.66666667, 42.85714286,\n",
       "       75.        ,  0.        , 33.33333333, 75.        , 33.33333333,\n",
       "       20.        , 16.66666667, 33.33333333,  0.        , 57.14285714])"
      ]
     },
     "execution_count": 56,
     "metadata": {},
     "output_type": "execute_result"
    }
   ],
   "source": [
    "# Showing our results for female % 4+ ratings\n",
    "female_four_plus_percentage"
   ]
  },
  {
   "cell_type": "code",
   "execution_count": 57,
   "id": "e25717cf",
   "metadata": {},
   "outputs": [
    {
     "name": "stdout",
     "output_type": "stream",
     "text": [
      "The movie that had the highest rating difference of 4+ ratings is: \n",
      "Shakespeare in Love (1998), with a rating difference of 75.0%\n",
      "\n",
      "The movie that had the second highest rating difference of 4+ ratings is: \n",
      "Babe (1995), with a rating difference of 57.14%\n",
      "\n",
      "The movie that had the third highest rating difference of 4+ ratings is: \n",
      "Blade Runner (1982), with a rating difference of 55.0%\n"
     ]
    }
   ],
   "source": [
    "# We will be using the same method as established before where we find the unnique votes votes\n",
    "# listed from highest to lowest (descending order), and indexing where those unique votes occur\n",
    "# to find what movies lie there, this will also help us determine tied rating scores.\n",
    "\n",
    "# Calculating the difference\n",
    "four_plus_percentage_diff = np.array(np.abs(male_four_plus_percentage - female_four_plus_percentage))\n",
    "\n",
    "# ranking the difference in descending order\n",
    "four_plus_percentage_descend = -np.sort(np.unique(-four_plus_percentage_diff))\n",
    "\n",
    "# finding the bottom 3 difference ratings\n",
    "top1 = np.where(four_plus_percentage_diff==four_plus_percentage_descend[0])\n",
    "top2 = np.where(four_plus_percentage_diff==four_plus_percentage_descend[1])\n",
    "top3 = np.where(four_plus_percentage_diff==four_plus_percentage_descend[2])\n",
    "\n",
    "# printing movie with the largest differce\n",
    "print('The movie that had the highest rating difference of 4+ ratings is: ')\n",
    "print(movies.columns[top1][0] + ', with a rating difference of '+ \n",
    "      str(round(four_plus_percentage_descend[0],2)) + '%')\n",
    "\n",
    "# printing the second place\n",
    "print('\\nThe movie that had the second highest rating difference of 4+ ratings is: ')\n",
    "print(movies.columns[top2][0] + ', with a rating difference of '+ \n",
    "      str(round(four_plus_percentage_descend[1],2))+ '%')\n",
    "\n",
    "# printing third place\n",
    "print('\\nThe movie that had the third highest rating difference of 4+ ratings is: ')\n",
    "print(movies.columns[top3][0] + ', with a rating difference of '+ \n",
    "      str(round(four_plus_percentage_descend[2],2))+ '%')"
   ]
  },
  {
   "cell_type": "markdown",
   "id": "b9cf761d",
   "metadata": {},
   "source": [
    "### Finding % of rating 4+ separately for males and females. And display the top 3 movies with lowest difference between genders.\n"
   ]
  },
  {
   "cell_type": "code",
   "execution_count": 58,
   "id": "9d0a20dd",
   "metadata": {},
   "outputs": [
    {
     "name": "stdout",
     "output_type": "stream",
     "text": [
      "The movies with the lowest rating difference of 4+ ratings are: \n",
      "Gladiator (2000) and Sixth Sense, The (1999), with a rating difference of 0.0%\n",
      "\n",
      "The movie that had the second lowest rating difference of 4+ ratings is: \n",
      "Independence Day (ID4) (1996), with a rating difference of 4.76%\n",
      "\n",
      "The movie that had the third lowest rating difference of 4+ ratings is: \n",
      "Star Wars: Episode IV - A New Hope (1977), with a rating difference of 7.14%\n"
     ]
    }
   ],
   "source": [
    "# We will be using the same method as established before where we find the unnique votes votes\n",
    "# listed from lowest to highest (ascending order), and indexing where those unique votes occur\n",
    "# to find what movies lie there, this will also help us determine tied rating scores.\n",
    "\n",
    "# Calculating the difference (using absolute value as it is more accurate)\n",
    "four_plus_percentage_diff = np.array(np.abs(male_four_plus_percentage - female_four_plus_percentage))\n",
    "\n",
    "# ranking the difference in ascending order\n",
    "four_plus_percentage_ascend = np.sort(np.unique(four_plus_percentage_diff))\n",
    "\n",
    "# finding the bottom 3 difference ratings\n",
    "bot1 = np.where(four_plus_percentage_diff==four_plus_percentage_ascend[0])\n",
    "bot2 = np.where(four_plus_percentage_diff==four_plus_percentage_ascend[1])\n",
    "bot3 = np.where(four_plus_percentage_diff==four_plus_percentage_ascend[2])\n",
    "\n",
    "# printing movie with the largest differce\n",
    "print('The movies with the lowest rating difference of 4+ ratings are: ')\n",
    "print(movies.columns[bot1][0] + ' and '+movies.columns[bot1][1] +\n",
    "      ', with a rating difference of '+ \n",
    "      str(round(four_plus_percentage_ascend[0],2)) + '%')\n",
    "\n",
    "# printing the second place\n",
    "print('\\nThe movie that had the second lowest rating difference of 4+ ratings is: ')\n",
    "print(movies.columns[bot2][0] + ', with a rating difference of '+ \n",
    "      str(round(four_plus_percentage_ascend[1],2))+ '%')\n",
    "\n",
    "# printing third place\n",
    "print('\\nThe movie that had the third lowest rating difference of 4+ ratings is: ')\n",
    "print(movies.columns[bot3][0] + ', with a rating difference of '+ \n",
    "      str(round(four_plus_percentage_ascend[2],2))+ '%')"
   ]
  },
  {
   "cell_type": "markdown",
   "id": "bd48105c",
   "metadata": {},
   "source": [
    "## Recommendations\n",
    "\n",
    "### Recommending the top 3 movies for someone who has seen Toy Story."
   ]
  },
  {
   "cell_type": "code",
   "execution_count": 59,
   "id": "f19b52af",
   "metadata": {},
   "outputs": [],
   "source": [
    "# Defining the toy story title for easier use\n",
    "ts_title = ratings.columns[8]\n",
    "\n",
    "# Finding the users who had given Toy Story a rating\n",
    "rated_ts_true =np.logical_not(np.isnan(ratings[ts_title]))\n",
    "\n",
    "# Creating a new DataFrame of only the people who have rated Toy Story\n",
    "ts_raters = ratings[rated_ts_true]"
   ]
  },
  {
   "cell_type": "code",
   "execution_count": 60,
   "id": "9119565b",
   "metadata": {},
   "outputs": [],
   "source": [
    "# To find the most popular movies amongst these raters, we will be using the average\n",
    "# movie score as our rating system. We will be using the same process as defined before\n",
    "\n",
    "# Removing Toy Story from the list of movies we would be recomending\n",
    "not_ts = ts_raters.drop(columns=(ts_title))\n",
    "\n",
    "# separating the movie columns from that of the User and Gender columns\n",
    "ts_movies = not_ts[not_ts.columns[2:]]\n",
    "\n",
    "ts_avg = []\n",
    "ts_count = []\n",
    "for i in range(len(ts_movies.T)):\n",
    "    # defining our individual movie title as an array for easier use\n",
    "    title = ts_movies.columns[i]\n",
    "    \n",
    "    # finding the total number of ratings cast per movie\n",
    "    len_true = np.logical_not(np.isnan(ts_movies[title])) # ensuring we don't count Nan values\n",
    "    len_ratings = len(ts_movies[title][len_true])\n",
    "    \n",
    "    # finding the average scores of our movies\n",
    "    total = ts_movies[title].sum()\n",
    "    ts_avg.append(total/len_ratings)\n",
    "\n",
    "    # Finding the total counts of each movie\n",
    "    ts_count.append(np.sum(ts_movies[title]))\n",
    "    \n",
    "# converting our list to a numpy array for easier use\n",
    "ts_count = np.array(ts_count)\n",
    "    \n",
    "# converting our list to a numpy array for easier use\n",
    "ts_avg = np.array(ts_avg)"
   ]
  },
  {
   "cell_type": "code",
   "execution_count": 61,
   "id": "18c2fa2c",
   "metadata": {},
   "outputs": [
    {
     "name": "stdout",
     "output_type": "stream",
     "text": [
      "The movie that had the highest average rating of people who have watched Toy Story is: \n",
      "Shawshank Redemption, The (1994), with the average rating of 4.25\n",
      "\n",
      "The movie that came in second place of people who have watched Toy Story is: \n",
      "Star Wars: Episode IV - A New Hope (1977), with the average rating of 3.21\n",
      "\n",
      "The movie that came in third place of people who have watched Toy Story is: \n",
      "Silence of the Lambs, The (1991), with the average rating of 3.15\n"
     ]
    }
   ],
   "source": [
    "# Displaying the top 3 enjoyed movies for those who have watched toy story using the\n",
    "# average rating process we have done above\n",
    "\n",
    "# Ranking in descending order\n",
    "ts_scores = -np.sort(np.unique(-ts_avg))\n",
    "\n",
    "# finding the movie rankings\n",
    "first = np.where(ts_avg==ts_scores[0])\n",
    "second = np.where(ts_avg==ts_scores[1])\n",
    "third = np.where(ts_avg==ts_scores[2])\n",
    "\n",
    "# printing first place\n",
    "print('The movie that had the highest average rating of people who have watched Toy Story is: ')\n",
    "print(movies.columns[first[0][0]] + ', with the average rating of '+ \n",
    "      str(round(ts_scores[0],2)))\n",
    "\n",
    "# printing the second place\n",
    "print('\\nThe movie that came in second place of people who have watched Toy Story is: ')\n",
    "print(movies.columns[second[0][0]] + ', with the average rating of '+ \n",
    "      str(round(ts_scores[1],2)))\n",
    "\n",
    "# printing third place\n",
    "print('\\nThe movie that came in third place of people who have watched Toy Story is: ')\n",
    "print(movies.columns[third[0][0]] + ', with the average rating of '+ \n",
    "      str(round(ts_scores[2],2)))"
   ]
  },
  {
   "cell_type": "markdown",
   "id": "14c51b81",
   "metadata": {},
   "source": [
    "## Movie Correlations\n",
    "\n",
    "Following is the definition of the sample correlation between two n dimensional sample vectors $x = [x_1,...,x_n]$ and $y = [y_1,...,y_n]$.\n",
    "\n",
    "\\begin{equation}\n",
    "    cor(x,y) = \\frac{\\sum_{i=1}^{n} x[i]y[i] - n \\cdot \\bar{x}\\bar{y}}{n \\cdot sd(x)sd(y)}\n",
    "\\end{equation}\n",
    "\n",
    "where $\\bar{x}$, $\\bar{y}$ represents the average values of x and y vectors and sd(x) and sd(y) represents standard deviation for x and y respectively.\n",
    "\n",
    "### Writing a function to calculate sample correlation "
   ]
  },
  {
   "cell_type": "code",
   "execution_count": 62,
   "id": "d2a8b657",
   "metadata": {},
   "outputs": [],
   "source": [
    "def cor(x ,y):\n",
    "    ''' Sample Correlation function between two \n",
    "    n dimensional sample vectors.\n",
    "    \n",
    "    x : array, n dimensional (same n as y)\n",
    "    y : array, n dimensional (same n as x)\n",
    "    '''\n",
    "    \n",
    "    n = len(x) # or len(y), so long as x and y are the same length\n",
    "\n",
    "    # defining the average values of x and y\n",
    "    x_bar = np.sum(x)/len(x)\n",
    "    y_bar = np.sum(y)/len(y)\n",
    "    \n",
    "    # defining the standard deviation for x and y\n",
    "    sd_x = np.std(x)\n",
    "    sd_y = np.std(y)\n",
    "    \n",
    "    top = np.sum(x * y) - (n * x_bar * y_bar)\n",
    "    bot = n * sd_x * sd_y\n",
    "    \n",
    "    return(top/bot)"
   ]
  },
  {
   "cell_type": "markdown",
   "id": "c13453fd",
   "metadata": {},
   "source": [
    "### Finding the correlation between the ratings of Toy story and ratings of Forrest Gump\n",
    "(Again remove the NA ’s.)"
   ]
  },
  {
   "cell_type": "code",
   "execution_count": 63,
   "id": "62499ade",
   "metadata": {},
   "outputs": [],
   "source": [
    "# Defining the titles for our two samples\n",
    "ts_title = ratings.columns[8]\n",
    "fg_title = ratings.columns[4]\n",
    "\n",
    "# Selecting the data from only our two samples\n",
    "ts_ratings = ratings[ts_title]\n",
    "fg_ratings = ratings[fg_title]\n",
    "\n",
    "# As our x and y arrays have to share the same length, we must \n",
    "# remove everyone who left a nan value for EITHER Toy Story OR\n",
    "# Forest Gump\n",
    "\n",
    "# Appendexing where the Nan values are for each sample\n",
    "ts_true = np.logical_not(np.isnan(ts_ratings))\n",
    "fg_true = np.logical_not(np.isnan(fg_ratings))\n",
    "\n",
    "# Finding where BOTH toy story and forrest gump are True\n",
    "both_true = []\n",
    "for i in range(len(ts_true)):\n",
    "    if ts_true[i] == fg_true[i]:\n",
    "        both_true.append(ts_true[i])\n",
    "    else:\n",
    "        both_true.append(False)\n",
    "        \n",
    "# Appendexing out our true sample\n",
    "ts_ratings = ts_ratings[both_true]\n",
    "fg_ratings = fg_ratings[both_true]"
   ]
  },
  {
   "cell_type": "code",
   "execution_count": 64,
   "id": "a87b5fde",
   "metadata": {},
   "outputs": [
    {
     "name": "stdout",
     "output_type": "stream",
     "text": [
      "The correlation between people who watch Forest Gump and people who watch toy story is: 0.523\n"
     ]
    }
   ],
   "source": [
    "# finding the correlation between people who watched Forest Gump \n",
    "# and people who watched Toy Story\n",
    "fg_ts_corr = cor(fg_ratings,ts_ratings)\n",
    "print('The correlation between people who watch Forest Gump and '+\n",
    "     'people who watch toy story is: '+str(round(fg_ts_corr,3)))"
   ]
  },
  {
   "cell_type": "markdown",
   "id": "0c515437",
   "metadata": {},
   "source": [
    "### Finding the top 3 movies having the highest correlation with the ratings of Toy Story"
   ]
  },
  {
   "cell_type": "code",
   "execution_count": 65,
   "id": "6623730e",
   "metadata": {},
   "outputs": [],
   "source": [
    "# First we must ensure we are using the same data we did in part b\n",
    "ts_title = ratings.columns[8]\n",
    "ts_rating = ratings[ts_title]\n",
    "ts_true = np.logical_not(np.isnan(ts_rating))\n",
    "\n",
    "# Removing Toy Story from the list of movies we will be checking\n",
    "no_ts_movies = movies.drop(columns=(ts_title))\n",
    "\n",
    "correlation = []\n",
    "for i in range(len(no_ts_movies.T)):\n",
    "    both_true = []\n",
    "    # Defining the movie title for easier use\n",
    "    movie_title = no_ts_movies.columns[i]\n",
    "    \n",
    "    # Appendexing where the Nan values are for our other movie sample\n",
    "    movie_true = np.logical_not(np.isnan(no_ts_movies[movie_title]))\n",
    "    \n",
    "    # Finding where BOTH ts and each movie are True\n",
    "    for j in range(len(movie_true)):\n",
    "        if movie_true[j] == ts_true[j]:\n",
    "            both_true.append(movie_true[j])\n",
    "        else:\n",
    "            both_true.append(False)\n",
    "    \n",
    "    # Appendexing the ratings of movies that have overlapping viewers\n",
    "    movie_ratings = no_ts_movies[movie_title][both_true]\n",
    "    ts_ratings = ts_rating[both_true]\n",
    "    \n",
    "    correlation.append(cor(movie_ratings,ts_ratings))"
   ]
  },
  {
   "cell_type": "code",
   "execution_count": 66,
   "id": "b5992f3c",
   "metadata": {},
   "outputs": [
    {
     "name": "stdout",
     "output_type": "stream",
     "text": [
      "The movie that had the highest ratings correlation with Toy Story is: \n",
      "Shawshank Redemption, The (1994), with a strong correlation of 0.89\n",
      "\n",
      "The movie that had the second highest ratings correlation with Toy Story is: \n",
      "Babe (1995), with a strong correlation of 0.81\n",
      "\n",
      "The movie that had the third highest ratings correlation with Toy Story is: \n",
      "Pulp Fiction (1994), with a strong correlation of 0.71\n"
     ]
    }
   ],
   "source": [
    "# Displaying the top 3 enjoyed movies for those who have watched toy story using the\n",
    "# same process as defined above\n",
    "\n",
    "# Ranking in descending order\n",
    "correlation_order = -np.sort(np.unique(-np.array(correlation)))\n",
    "\n",
    "# finding the movie rankings\n",
    "first = np.where(correlation==correlation_order[0])\n",
    "second = np.where(correlation==correlation_order[1])\n",
    "third = np.where(correlation==correlation_order[2])\n",
    "\n",
    "# printing first place\n",
    "print('The movie that had the highest ratings correlation with Toy Story is: ')\n",
    "print(no_ts_movies.columns[first[0][0]] + ', with a strong correlation of '+ \n",
    "      str(round(correlation_order[0],2)))\n",
    "\n",
    "# printing the second place\n",
    "print('\\nThe movie that had the second highest ratings correlation with Toy Story is: ')\n",
    "print(no_ts_movies.columns[second[0][0]] + ', with a strong correlation of '+ \n",
    "      str(round(correlation_order[1],2)))\n",
    "\n",
    "# printing third place\n",
    "print('\\nThe movie that had the third highest ratings correlation with Toy Story is: ')\n",
    "print(no_ts_movies.columns[third[0][0]] + ', with a strong correlation of '+ \n",
    "      str(round(correlation_order[2],2)))"
   ]
  },
  {
   "cell_type": "code",
   "execution_count": null,
   "id": "019d6e57",
   "metadata": {},
   "outputs": [],
   "source": []
  }
 ],
 "metadata": {
  "kernelspec": {
   "display_name": "Python 3",
   "language": "python",
   "name": "python3"
  },
  "language_info": {
   "codemirror_mode": {
    "name": "ipython",
    "version": 3
   },
   "file_extension": ".py",
   "mimetype": "text/x-python",
   "name": "python",
   "nbconvert_exporter": "python",
   "pygments_lexer": "ipython3",
   "version": "3.6.13"
  }
 },
 "nbformat": 4,
 "nbformat_minor": 5
}
